{
 "cells": [
  {
   "cell_type": "markdown",
   "metadata": {},
   "source": [
    "# Redes LSTM"
   ]
  },
  {
   "cell_type": "markdown",
   "metadata": {},
   "source": [
    "Las redes Long Short Term Memory (LSTM) son redes neuronales recurrentes utilizadas para capturar dependencias de datos a largo plazo. Para ello, en sus unidades mínimas de procesamiento llamadas *celdas de memoria* emplean las puertas *forget*, *input* y *output*. La puerta *forget* controla la cantidad de información que se debe descartar o, lo que es lo mismo, cuánta información se debe recordar. Por ello, en ciertos textos son denotadas también puertas *keep*. Por su parte, la puerta *input* controla cómo ha de actualizarse la información en la celda de memoria. Finalmente, la puerta *output* controla la información de salida y la que se transmitirá al siguiente paso de la secuencia al tratarse de una red recurrente.\n",
    "\n",
    "Comencemos por importar las librería para poder, en última instancia, construir el modelo:"
   ]
  },
  {
   "cell_type": "code",
   "execution_count": 27,
   "metadata": {
    "tags": []
   },
   "outputs": [
    {
     "name": "stdout",
     "output_type": "stream",
     "text": [
      "Versión tensorflow: 2.12.0\n",
      "Versión keras: 2.12.0\n"
     ]
    }
   ],
   "source": [
    "# !pip install tensorflow\n",
    "import tensorflow \n",
    "from tensorflow import keras\n",
    "\n",
    "print('Versión tensorflow:', tensorflow.__version__)\n",
    "print('Versión keras:', keras.__version__)"
   ]
  },
  {
   "cell_type": "markdown",
   "metadata": {},
   "source": [
    "Importamos el dataset que contiene la información de los precios del Bitcoin (BTC):"
   ]
  },
  {
   "cell_type": "code",
   "execution_count": 3,
   "metadata": {
    "tags": []
   },
   "outputs": [
    {
     "data": {
      "text/html": [
       "<div>\n",
       "<style scoped>\n",
       "    .dataframe tbody tr th:only-of-type {\n",
       "        vertical-align: middle;\n",
       "    }\n",
       "\n",
       "    .dataframe tbody tr th {\n",
       "        vertical-align: top;\n",
       "    }\n",
       "\n",
       "    .dataframe thead th {\n",
       "        text-align: right;\n",
       "    }\n",
       "</style>\n",
       "<table border=\"1\" class=\"dataframe\">\n",
       "  <thead>\n",
       "    <tr style=\"text-align: right;\">\n",
       "      <th></th>\n",
       "      <th>Currency</th>\n",
       "      <th>Date</th>\n",
       "      <th>Closing Price (USD)</th>\n",
       "      <th>24h Open (USD)</th>\n",
       "      <th>24h High (USD)</th>\n",
       "      <th>24h Low (USD)</th>\n",
       "    </tr>\n",
       "  </thead>\n",
       "  <tbody>\n",
       "    <tr>\n",
       "      <th>0</th>\n",
       "      <td>BTC</td>\n",
       "      <td>2013-10-01</td>\n",
       "      <td>123.65499</td>\n",
       "      <td>124.30466</td>\n",
       "      <td>124.75166</td>\n",
       "      <td>122.56349</td>\n",
       "    </tr>\n",
       "    <tr>\n",
       "      <th>1</th>\n",
       "      <td>BTC</td>\n",
       "      <td>2013-10-02</td>\n",
       "      <td>125.45500</td>\n",
       "      <td>123.65499</td>\n",
       "      <td>125.75850</td>\n",
       "      <td>123.63383</td>\n",
       "    </tr>\n",
       "    <tr>\n",
       "      <th>2</th>\n",
       "      <td>BTC</td>\n",
       "      <td>2013-10-03</td>\n",
       "      <td>108.58483</td>\n",
       "      <td>125.45500</td>\n",
       "      <td>125.66566</td>\n",
       "      <td>83.32833</td>\n",
       "    </tr>\n",
       "    <tr>\n",
       "      <th>3</th>\n",
       "      <td>BTC</td>\n",
       "      <td>2013-10-04</td>\n",
       "      <td>118.67466</td>\n",
       "      <td>108.58483</td>\n",
       "      <td>118.67500</td>\n",
       "      <td>107.05816</td>\n",
       "    </tr>\n",
       "    <tr>\n",
       "      <th>4</th>\n",
       "      <td>BTC</td>\n",
       "      <td>2013-10-05</td>\n",
       "      <td>121.33866</td>\n",
       "      <td>118.67466</td>\n",
       "      <td>121.93633</td>\n",
       "      <td>118.00566</td>\n",
       "    </tr>\n",
       "  </tbody>\n",
       "</table>\n",
       "</div>"
      ],
      "text/plain": [
       "  Currency        Date  Closing Price (USD)  24h Open (USD)  24h High (USD)  \\\n",
       "0      BTC  2013-10-01            123.65499       124.30466       124.75166   \n",
       "1      BTC  2013-10-02            125.45500       123.65499       125.75850   \n",
       "2      BTC  2013-10-03            108.58483       125.45500       125.66566   \n",
       "3      BTC  2013-10-04            118.67466       108.58483       118.67500   \n",
       "4      BTC  2013-10-05            121.33866       118.67466       121.93633   \n",
       "\n",
       "   24h Low (USD)  \n",
       "0      122.56349  \n",
       "1      123.63383  \n",
       "2       83.32833  \n",
       "3      107.05816  \n",
       "4      118.00566  "
      ]
     },
     "execution_count": 3,
     "metadata": {},
     "output_type": "execute_result"
    }
   ],
   "source": [
    "import pandas as pd\n",
    "\n",
    "df = pd.read_csv('btc.csv')\n",
    "\n",
    "df.head()"
   ]
  },
  {
   "cell_type": "code",
   "execution_count": 4,
   "metadata": {
    "tags": []
   },
   "outputs": [
    {
     "data": {
      "text/html": [
       "<div>\n",
       "<style scoped>\n",
       "    .dataframe tbody tr th:only-of-type {\n",
       "        vertical-align: middle;\n",
       "    }\n",
       "\n",
       "    .dataframe tbody tr th {\n",
       "        vertical-align: top;\n",
       "    }\n",
       "\n",
       "    .dataframe thead th {\n",
       "        text-align: right;\n",
       "    }\n",
       "</style>\n",
       "<table border=\"1\" class=\"dataframe\">\n",
       "  <thead>\n",
       "    <tr style=\"text-align: right;\">\n",
       "      <th></th>\n",
       "      <th>Date</th>\n",
       "      <th>Closing Price (USD)</th>\n",
       "    </tr>\n",
       "  </thead>\n",
       "  <tbody>\n",
       "    <tr>\n",
       "      <th>0</th>\n",
       "      <td>2013-10-01</td>\n",
       "      <td>123.65499</td>\n",
       "    </tr>\n",
       "    <tr>\n",
       "      <th>1</th>\n",
       "      <td>2013-10-02</td>\n",
       "      <td>125.45500</td>\n",
       "    </tr>\n",
       "    <tr>\n",
       "      <th>2</th>\n",
       "      <td>2013-10-03</td>\n",
       "      <td>108.58483</td>\n",
       "    </tr>\n",
       "    <tr>\n",
       "      <th>3</th>\n",
       "      <td>2013-10-04</td>\n",
       "      <td>118.67466</td>\n",
       "    </tr>\n",
       "    <tr>\n",
       "      <th>4</th>\n",
       "      <td>2013-10-05</td>\n",
       "      <td>121.33866</td>\n",
       "    </tr>\n",
       "  </tbody>\n",
       "</table>\n",
       "</div>"
      ],
      "text/plain": [
       "         Date  Closing Price (USD)\n",
       "0  2013-10-01            123.65499\n",
       "1  2013-10-02            125.45500\n",
       "2  2013-10-03            108.58483\n",
       "3  2013-10-04            118.67466\n",
       "4  2013-10-05            121.33866"
      ]
     },
     "execution_count": 4,
     "metadata": {},
     "output_type": "execute_result"
    }
   ],
   "source": [
    "df = df[['Date', 'Closing Price (USD)']]\n",
    "\n",
    "df.head()"
   ]
  },
  {
   "cell_type": "code",
   "execution_count": 5,
   "metadata": {
    "tags": []
   },
   "outputs": [
    {
     "data": {
      "text/html": [
       "<div>\n",
       "<style scoped>\n",
       "    .dataframe tbody tr th:only-of-type {\n",
       "        vertical-align: middle;\n",
       "    }\n",
       "\n",
       "    .dataframe tbody tr th {\n",
       "        vertical-align: top;\n",
       "    }\n",
       "\n",
       "    .dataframe thead th {\n",
       "        text-align: right;\n",
       "    }\n",
       "</style>\n",
       "<table border=\"1\" class=\"dataframe\">\n",
       "  <thead>\n",
       "    <tr style=\"text-align: right;\">\n",
       "      <th></th>\n",
       "      <th>Date</th>\n",
       "      <th>Closing Price (USD)</th>\n",
       "    </tr>\n",
       "  </thead>\n",
       "  <tbody>\n",
       "    <tr>\n",
       "      <th>2608</th>\n",
       "      <td>2020-12-31</td>\n",
       "      <td>29111.52157</td>\n",
       "    </tr>\n",
       "    <tr>\n",
       "      <th>2609</th>\n",
       "      <td>2021-01-01</td>\n",
       "      <td>29333.60512</td>\n",
       "    </tr>\n",
       "    <tr>\n",
       "      <th>2610</th>\n",
       "      <td>2021-01-02</td>\n",
       "      <td>32154.16736</td>\n",
       "    </tr>\n",
       "    <tr>\n",
       "      <th>2611</th>\n",
       "      <td>2021-01-03</td>\n",
       "      <td>33002.53643</td>\n",
       "    </tr>\n",
       "    <tr>\n",
       "      <th>2612</th>\n",
       "      <td>2021-01-04</td>\n",
       "      <td>31431.61228</td>\n",
       "    </tr>\n",
       "  </tbody>\n",
       "</table>\n",
       "</div>"
      ],
      "text/plain": [
       "            Date  Closing Price (USD)\n",
       "2608  2020-12-31          29111.52157\n",
       "2609  2021-01-01          29333.60512\n",
       "2610  2021-01-02          32154.16736\n",
       "2611  2021-01-03          33002.53643\n",
       "2612  2021-01-04          31431.61228"
      ]
     },
     "execution_count": 5,
     "metadata": {},
     "output_type": "execute_result"
    }
   ],
   "source": [
    "df.tail()"
   ]
  },
  {
   "cell_type": "markdown",
   "metadata": {},
   "source": [
    "Detectamos que las cuatro últimas fechas no se encuentran dentro de nuestra ventana de trabajo (desde $2013$ hasta finales de $2020$), luego las eliminamos sin problema:"
   ]
  },
  {
   "cell_type": "code",
   "execution_count": 6,
   "metadata": {
    "tags": []
   },
   "outputs": [
    {
     "data": {
      "text/html": [
       "<div>\n",
       "<style scoped>\n",
       "    .dataframe tbody tr th:only-of-type {\n",
       "        vertical-align: middle;\n",
       "    }\n",
       "\n",
       "    .dataframe tbody tr th {\n",
       "        vertical-align: top;\n",
       "    }\n",
       "\n",
       "    .dataframe thead th {\n",
       "        text-align: right;\n",
       "    }\n",
       "</style>\n",
       "<table border=\"1\" class=\"dataframe\">\n",
       "  <thead>\n",
       "    <tr style=\"text-align: right;\">\n",
       "      <th></th>\n",
       "      <th>Date</th>\n",
       "      <th>Closing Price (USD)</th>\n",
       "    </tr>\n",
       "  </thead>\n",
       "  <tbody>\n",
       "    <tr>\n",
       "      <th>2604</th>\n",
       "      <td>2020-12-27</td>\n",
       "      <td>26389.29026</td>\n",
       "    </tr>\n",
       "    <tr>\n",
       "      <th>2605</th>\n",
       "      <td>2020-12-28</td>\n",
       "      <td>26718.02946</td>\n",
       "    </tr>\n",
       "    <tr>\n",
       "      <th>2606</th>\n",
       "      <td>2020-12-29</td>\n",
       "      <td>26975.72956</td>\n",
       "    </tr>\n",
       "    <tr>\n",
       "      <th>2607</th>\n",
       "      <td>2020-12-30</td>\n",
       "      <td>28768.83621</td>\n",
       "    </tr>\n",
       "    <tr>\n",
       "      <th>2608</th>\n",
       "      <td>2020-12-31</td>\n",
       "      <td>29111.52157</td>\n",
       "    </tr>\n",
       "  </tbody>\n",
       "</table>\n",
       "</div>"
      ],
      "text/plain": [
       "            Date  Closing Price (USD)\n",
       "2604  2020-12-27          26389.29026\n",
       "2605  2020-12-28          26718.02946\n",
       "2606  2020-12-29          26975.72956\n",
       "2607  2020-12-30          28768.83621\n",
       "2608  2020-12-31          29111.52157"
      ]
     },
     "execution_count": 6,
     "metadata": {},
     "output_type": "execute_result"
    }
   ],
   "source": [
    "df.drop(df.tail(4).index,inplace = True)\n",
    "\n",
    "df.tail()"
   ]
  },
  {
   "cell_type": "markdown",
   "metadata": {},
   "source": [
    "Tras quedarnos con las variables necesarias para construir el modelo, determinamos si existen *missings* en alguna de las columnas y el tipo de cada una de las variables:"
   ]
  },
  {
   "cell_type": "code",
   "execution_count": 20,
   "metadata": {
    "tags": []
   },
   "outputs": [
    {
     "data": {
      "text/plain": [
       "Date                   0\n",
       "Closing Price (USD)    0\n",
       "dtype: int64"
      ]
     },
     "execution_count": 20,
     "metadata": {},
     "output_type": "execute_result"
    }
   ],
   "source": [
    "df.isnull().sum()"
   ]
  },
  {
   "cell_type": "code",
   "execution_count": 9,
   "metadata": {
    "tags": []
   },
   "outputs": [
    {
     "data": {
      "text/plain": [
       "Date                    object\n",
       "Closing Price (USD)    float64\n",
       "dtype: object"
      ]
     },
     "execution_count": 9,
     "metadata": {},
     "output_type": "execute_result"
    }
   ],
   "source": [
    "df.dtypes"
   ]
  },
  {
   "cell_type": "code",
   "execution_count": 10,
   "metadata": {
    "tags": []
   },
   "outputs": [],
   "source": [
    "df['Date'] = pd.to_datetime(df['Date'], format='%Y-%m-%d')"
   ]
  },
  {
   "cell_type": "code",
   "execution_count": 11,
   "metadata": {
    "tags": []
   },
   "outputs": [
    {
     "data": {
      "text/plain": [
       "Date                   datetime64[ns]\n",
       "Closing Price (USD)           float64\n",
       "dtype: object"
      ]
     },
     "execution_count": 11,
     "metadata": {},
     "output_type": "execute_result"
    }
   ],
   "source": [
    "df.dtypes"
   ]
  },
  {
   "cell_type": "markdown",
   "metadata": {},
   "source": [
    "Una vez tenemos el dataset inicial con esta información y formato, lo dividimos en los conjuntos de *train* y de *test*:"
   ]
  },
  {
   "cell_type": "code",
   "execution_count": 12,
   "metadata": {
    "tags": []
   },
   "outputs": [],
   "source": [
    "train_completo =  pd.DataFrame(df[df['Date'] < pd.to_datetime('2020-06-01')])\n",
    "test_completo =  pd.DataFrame(df[df['Date'] >= pd.to_datetime('2020-06-01')])"
   ]
  },
  {
   "cell_type": "code",
   "execution_count": 15,
   "metadata": {
    "tags": []
   },
   "outputs": [],
   "source": [
    "train = pd.DataFrame(train_completo['Closing Price (USD)'])\n",
    "test = pd.DataFrame(test_completo['Closing Price (USD)'])"
   ]
  },
  {
   "cell_type": "markdown",
   "metadata": {
    "tags": []
   },
   "source": [
    "Puesto que nos encontramos ante un problema de *forecasting*, reescalamos los datos para que todas los precios se encuentren entre $0$ y $1$ empleando *MinMaxScaler* de la librería *sklearn*. De este modo, aumentaremos el poder predictivo del modelo:"
   ]
  },
  {
   "cell_type": "code",
   "execution_count": 17,
   "metadata": {
    "tags": []
   },
   "outputs": [],
   "source": [
    "from sklearn.preprocessing import MinMaxScaler\n",
    "\n",
    "minmaxSc = MinMaxScaler()\n",
    "sc_train = minmaxSc.fit_transform(train)\n",
    "sc_test =  minmaxSc.transform(test)"
   ]
  },
  {
   "cell_type": "markdown",
   "metadata": {},
   "source": [
    "Nótese que hemos creado el transformador *MinMaxScaler* empleando únicamente datos del dataset llamado *train*, ya que en el proceso de transformación no puede intervenir información procedente del dataset llamado *test*. A continuación, procedemos a estructurar el dataset de *train* en función de los días que queramos tener en cuenta para realizar la predicción del día siguiente. En este caso, tendremos en cuenta los 30 días anteriores:"
   ]
  },
  {
   "cell_type": "code",
   "execution_count": 18,
   "metadata": {
    "tags": []
   },
   "outputs": [
    {
     "data": {
      "text/plain": [
       "array([[0.00079074],\n",
       "       [0.00088518],\n",
       "       [0.        ],\n",
       "       [0.00052942],\n",
       "       [0.0006692 ],\n",
       "       [0.00063334],\n",
       "       [0.00069314],\n",
       "       [0.0007581 ],\n",
       "       [0.00081141],\n",
       "       [0.00091174],\n",
       "       [0.00087598],\n",
       "       [0.00090998],\n",
       "       [0.00093389],\n",
       "       [0.00139871],\n",
       "       [0.00129174],\n",
       "       [0.00179336],\n",
       "       [0.0015394 ],\n",
       "       [0.00180324],\n",
       "       [0.00230696],\n",
       "       [0.00271555],\n",
       "       [0.00292418],\n",
       "       [0.003623  ],\n",
       "       [0.00418253],\n",
       "       [0.0048334 ],\n",
       "       [0.0037658 ],\n",
       "       [0.00348649],\n",
       "       [0.00362631],\n",
       "       [0.00412286],\n",
       "       [0.00441652],\n",
       "       [0.00466016]])"
      ]
     },
     "execution_count": 18,
     "metadata": {},
     "output_type": "execute_result"
    }
   ],
   "source": [
    "import numpy as np\n",
    "\n",
    "windows = 30\n",
    "X_train = []\n",
    "Y_train = []\n",
    "\n",
    "for i in range(windows, sc_train.size):\n",
    "    \n",
    "    X_train.append(sc_train[i-windows:i,0])\n",
    "    Y_train.append(sc_train[i,0])\n",
    "\n",
    "# Tras la creacion de las listas X_train, Y_train para entrenar el modelo, redimensionamos los conjuntos para aplicar directamente el modelo\n",
    "X_train, Y_train = np.array(X_train), np.array(Y_train)\n",
    "X_train = np.reshape(X_train, (X_train.shape[0], X_train.shape[1], 1))\n",
    "\n",
    "# Veamos el primer elemento del conjunto X_train\n",
    "X_train[0]"
   ]
  },
  {
   "cell_type": "markdown",
   "metadata": {},
   "source": [
    "Comprobemos las dimensiones del conjunto X_train:"
   ]
  },
  {
   "cell_type": "code",
   "execution_count": 21,
   "metadata": {
    "tags": []
   },
   "outputs": [
    {
     "data": {
      "text/plain": [
       "(2365, 30, 1)"
      ]
     },
     "execution_count": 21,
     "metadata": {},
     "output_type": "execute_result"
    }
   ],
   "source": [
    "X_train.shape"
   ]
  },
  {
   "cell_type": "markdown",
   "metadata": {
    "tags": []
   },
   "source": [
    "Una vez hemos terminado con los preparativos, podemos comenzar a crear nuestra red LSTM. Construiremos una red con una capa LSTM con 60 unidades de memoria. Finalmente, hemos configurado una capa de salida con una única neurona:"
   ]
  },
  {
   "cell_type": "code",
   "execution_count": 22,
   "metadata": {
    "tags": []
   },
   "outputs": [],
   "source": [
    "from keras.models import Sequential\n",
    "from keras.layers import Dense, LSTM\n",
    "\n",
    "modelo = Sequential()\n",
    "modelo.add(LSTM(units=60, input_shape=(X_train.shape[1],1)))\n",
    "modelo.add(Dense(1))"
   ]
  },
  {
   "cell_type": "markdown",
   "metadata": {},
   "source": [
    "Con la estructura de la red definida, solo falta definir la función de pérdida que utilizará para aprender los pesos de la red y el método de optimización de la función de pérdida. La función de pérdida será el llamado *Mean Square Error* y el método escogido el *adam*:"
   ]
  },
  {
   "cell_type": "code",
   "execution_count": 23,
   "metadata": {
    "tags": []
   },
   "outputs": [],
   "source": [
    "modelo.compile(optimizer='adam', loss='mse')"
   ]
  },
  {
   "cell_type": "markdown",
   "metadata": {},
   "source": [
    "Finalmente, entrenamos el modelo estableciendo previamente un número de *epochs* y un tamaño de *batch*. Estas variables, al igual que las anteriores y la propia estructura de la red, son hiperparámetros del modelo que podrían ajustarse para tratar de obtener el máximo rendimiento del modelo. Sin embargo, en este caso, nosotros fijaremos un valor determinado:"
   ]
  },
  {
   "cell_type": "code",
   "execution_count": 24,
   "metadata": {
    "tags": []
   },
   "outputs": [
    {
     "name": "stdout",
     "output_type": "stream",
     "text": [
      "Epoch 1/10\n",
      "119/119 [==============================] - 2s 8ms/step - loss: 0.0028\n",
      "Epoch 2/10\n",
      "119/119 [==============================] - 1s 8ms/step - loss: 6.5357e-04\n",
      "Epoch 3/10\n",
      "119/119 [==============================] - 1s 7ms/step - loss: 6.1143e-04\n",
      "Epoch 4/10\n",
      "119/119 [==============================] - 1s 8ms/step - loss: 4.9540e-04\n",
      "Epoch 5/10\n",
      "119/119 [==============================] - 1s 7ms/step - loss: 4.3841e-04\n",
      "Epoch 6/10\n",
      "119/119 [==============================] - 1s 8ms/step - loss: 4.3851e-04\n",
      "Epoch 7/10\n",
      "119/119 [==============================] - 1s 7ms/step - loss: 3.8146e-04\n",
      "Epoch 8/10\n",
      "119/119 [==============================] - 1s 7ms/step - loss: 3.9739e-04\n",
      "Epoch 9/10\n",
      "119/119 [==============================] - 1s 7ms/step - loss: 3.7104e-04\n",
      "Epoch 10/10\n",
      "119/119 [==============================] - 1s 7ms/step - loss: 3.5756e-04\n"
     ]
    },
    {
     "data": {
      "text/plain": [
       "<keras.callbacks.History at 0x1cb07489df0>"
      ]
     },
     "execution_count": 24,
     "metadata": {},
     "output_type": "execute_result"
    }
   ],
   "source": [
    "modelo.fit(X_train,Y_train,epochs=10,batch_size=20)"
   ]
  },
  {
   "cell_type": "markdown",
   "metadata": {},
   "source": [
    "Una vez entrenado, podemos medir el rendimiento del modelo con el conjunto de *test*:"
   ]
  },
  {
   "cell_type": "code",
   "execution_count": 28,
   "metadata": {
    "tags": []
   },
   "outputs": [
    {
     "data": {
      "text/plain": [
       "array([[0.48897537],\n",
       "       [0.53309829],\n",
       "       [0.49361718],\n",
       "       [0.50153628],\n",
       "       [0.50910808],\n",
       "       [0.50114803],\n",
       "       [0.50206047],\n",
       "       [0.50523007],\n",
       "       [0.5080881 ],\n",
       "       [0.50778451],\n",
       "       [0.51244519],\n",
       "       [0.48022136],\n",
       "       [0.49089358],\n",
       "       [0.49060141],\n",
       "       [0.48500251],\n",
       "       [0.48971515],\n",
       "       [0.49332991],\n",
       "       [0.49054722],\n",
       "       [0.48745226],\n",
       "       [0.48121452],\n",
       "       [0.48506151],\n",
       "       [0.48170479],\n",
       "       [0.5022649 ],\n",
       "       [0.4985255 ],\n",
       "       [0.48286081],\n",
       "       [0.47979114],\n",
       "       [0.47554622],\n",
       "       [0.4676978 ],\n",
       "       [0.47187949],\n",
       "       [0.47640303]])"
      ]
     },
     "execution_count": 28,
     "metadata": {},
     "output_type": "execute_result"
    }
   ],
   "source": [
    "X_test = []\n",
    "Y_test = []\n",
    "\n",
    "for i in range(windows, sc_test.size):\n",
    "    X_test.append(sc_test[i-windows:i,0])\n",
    "    Y_test.append(sc_test[i,0])\n",
    "\n",
    "X_test, Y_test = np.array(X_test), np.array(Y_test)\n",
    "X_test = np.reshape(X_test, (X_test.shape[0], X_test.shape[1], 1))\n",
    "\n",
    "# Veamos el primer elemento del conjunto X_test\n",
    "X_test[0]"
   ]
  },
  {
   "cell_type": "code",
   "execution_count": 29,
   "metadata": {
    "tags": []
   },
   "outputs": [
    {
     "name": "stdout",
     "output_type": "stream",
     "text": [
      "6/6 [==============================] - 0s 4ms/step\n",
      "Error Cuadrático Medio (MSE): 0.0014928338476201675\n"
     ]
    }
   ],
   "source": [
    "from sklearn.metrics import mean_squared_error\n",
    "\n",
    "y_pred = modelo.predict(X_test)\n",
    "\n",
    "mse = mean_squared_error(Y_test, y_pred)\n",
    "\n",
    "print(\"Error Cuadrático Medio (MSE):\", mse)"
   ]
  },
  {
   "cell_type": "markdown",
   "metadata": {},
   "source": [
    "Como podemos observar tras medir el rendimiento con el conjunto de test, el modelo que hemos creado tiene un MSE de $0.0015$. Nótese que hemos redimensionado los datos para que todos estuvieran en el rango de valores $[0,1]$, luego el MSE también se encontrará afectado por esta transformación. Aun así, un error cuadrático medio de $0.0015$ en este caso parece un error aceptable teniendo en cuenta que no hemos realizado ningún tipo de ajuste de hiperparámetros."
   ]
  },
  {
   "cell_type": "markdown",
   "metadata": {},
   "source": [
    "Veamos una representación gráfica de las predicciones con los valores de la serie temporal del conjunto de test:"
   ]
  },
  {
   "cell_type": "code",
   "execution_count": 38,
   "metadata": {
    "tags": []
   },
   "outputs": [
    {
     "data": {
      "image/png": "[encoded data removed]",
      "text/plain": [
       "<Figure size 1000x600 with 1 Axes>"
      ]
     },
     "metadata": {},
     "output_type": "display_data"
    }
   ],
   "source": [
    "import matplotlib.pyplot as plt\n",
    "\n",
    "plt.figure(figsize=(10, 6))\n",
    "\n",
    "plt.plot(minmaxSc.inverse_transform(y_pred), label='Predicciones', color='m')\n",
    "plt.plot(minmaxSc.inverse_transform(pd.DataFrame(Y_test)), label='Valores reales', color='b')\n",
    "plt.title('Predicción vs Realidad')\n",
    "plt.ylabel('Precio')\n",
    "plt.xticks(rotation=45)\n",
    "plt.tight_layout()\n",
    "\n",
    "plt.show()"
   ]
  }
 ],
 "metadata": {
  "kernelspec": {
   "display_name": "Python 3 (ipykernel)",
   "language": "python",
   "name": "python3"
  },
  "language_info": {
   "codemirror_mode": {
    "name": "ipython",
    "version": 3
   },
   "file_extension": ".py",
   "mimetype": "text/x-python",
   "name": "python",
   "nbconvert_exporter": "python",
   "pygments_lexer": "ipython3",
   "version": "3.8.5"
  }
 },
 "nbformat": 4,
 "nbformat_minor": 4
}

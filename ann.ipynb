{
 "cells": [
  {
   "cell_type": "markdown",
   "id": "42d305a7-89a8-4064-93f4-9858f318d125",
   "metadata": {},
   "source": [
    "# Redes Neuronales Artificiales"
   ]
  },
  {
   "cell_type": "markdown",
   "id": "eb2a65e1-956a-41c8-89bd-f9d7167994a3",
   "metadata": {},
   "source": [
    "Comenzamos importando una serie de librerías necesarias. Más adelante importaremos más liberías que vayamos necesitando en el proceso de construcción del modelo:"
   ]
  },
  {
   "cell_type": "code",
   "execution_count": 13,
   "id": "3489c4c4-72fe-4b3f-8e7c-49a985ad56d8",
   "metadata": {},
   "outputs": [],
   "source": [
    "import pandas as pd\n",
    "from tensorflow.keras.models import Sequential\n",
    "from tensorflow.keras.layers import Dense, Dropout"
   ]
  },
  {
   "cell_type": "markdown",
   "id": "fe27af21-6676-4fca-b3c7-ccac8c90aa1f",
   "metadata": {},
   "source": [
    "Importamos el dataset Banknote Authentication Dataset del UC Irvine Machine Learning Repository, un conjunto de datos que recopila información sobre imágenes de billetes bancarios tanto de curso legal como falsos:"
   ]
  },
  {
   "cell_type": "code",
   "execution_count": 22,
   "id": "ed82e8c4-16fc-4983-8df0-a97125973dea",
   "metadata": {
    "tags": []
   },
   "outputs": [
    {
     "data": {
      "text/html": [
       "<div>\n",
       "<style scoped>\n",
       "    .dataframe tbody tr th:only-of-type {\n",
       "        vertical-align: middle;\n",
       "    }\n",
       "\n",
       "    .dataframe tbody tr th {\n",
       "        vertical-align: top;\n",
       "    }\n",
       "\n",
       "    .dataframe thead th {\n",
       "        text-align: right;\n",
       "    }\n",
       "</style>\n",
       "<table border=\"1\" class=\"dataframe\">\n",
       "  <thead>\n",
       "    <tr style=\"text-align: right;\">\n",
       "      <th></th>\n",
       "      <th>variance_wti</th>\n",
       "      <th>skewness_wti</th>\n",
       "      <th>kurtosis_wti</th>\n",
       "      <th>entropy</th>\n",
       "      <th>class</th>\n",
       "    </tr>\n",
       "  </thead>\n",
       "  <tbody>\n",
       "    <tr>\n",
       "      <th>0</th>\n",
       "      <td>3.62160</td>\n",
       "      <td>8.6661</td>\n",
       "      <td>-2.8073</td>\n",
       "      <td>-0.44699</td>\n",
       "      <td>0</td>\n",
       "    </tr>\n",
       "    <tr>\n",
       "      <th>1</th>\n",
       "      <td>4.54590</td>\n",
       "      <td>8.1674</td>\n",
       "      <td>-2.4586</td>\n",
       "      <td>-1.46210</td>\n",
       "      <td>0</td>\n",
       "    </tr>\n",
       "    <tr>\n",
       "      <th>2</th>\n",
       "      <td>3.86600</td>\n",
       "      <td>-2.6383</td>\n",
       "      <td>1.9242</td>\n",
       "      <td>0.10645</td>\n",
       "      <td>0</td>\n",
       "    </tr>\n",
       "    <tr>\n",
       "      <th>3</th>\n",
       "      <td>3.45660</td>\n",
       "      <td>9.5228</td>\n",
       "      <td>-4.0112</td>\n",
       "      <td>-3.59440</td>\n",
       "      <td>0</td>\n",
       "    </tr>\n",
       "    <tr>\n",
       "      <th>4</th>\n",
       "      <td>0.32924</td>\n",
       "      <td>-4.4552</td>\n",
       "      <td>4.5718</td>\n",
       "      <td>-0.98880</td>\n",
       "      <td>0</td>\n",
       "    </tr>\n",
       "  </tbody>\n",
       "</table>\n",
       "</div>"
      ],
      "text/plain": [
       "   variance_wti  skewness_wti  kurtosis_wti  entropy  class\n",
       "0       3.62160        8.6661       -2.8073 -0.44699      0\n",
       "1       4.54590        8.1674       -2.4586 -1.46210      0\n",
       "2       3.86600       -2.6383        1.9242  0.10645      0\n",
       "3       3.45660        9.5228       -4.0112 -3.59440      0\n",
       "4       0.32924       -4.4552        4.5718 -0.98880      0"
      ]
     },
     "execution_count": 22,
     "metadata": {},
     "output_type": "execute_result"
    }
   ],
   "source": [
    "df = pd.read_csv('data_banknote_authentication.csv')\n",
    "\n",
    "df.head()"
   ]
  },
  {
   "cell_type": "markdown",
   "id": "c32fb841-3e97-4e0b-8274-1742da47afc6",
   "metadata": {},
   "source": [
    "Veamos sus dimiensiones:"
   ]
  },
  {
   "cell_type": "code",
   "execution_count": 23,
   "id": "edcd643e-6940-4b29-adf9-91fa198d76bd",
   "metadata": {
    "tags": []
   },
   "outputs": [
    {
     "data": {
      "text/plain": [
       "(1372, 5)"
      ]
     },
     "execution_count": 23,
     "metadata": {},
     "output_type": "execute_result"
    }
   ],
   "source": [
    "df.shape"
   ]
  },
  {
   "cell_type": "markdown",
   "id": "8a243419-e3dd-4a0c-8fc3-d51841062909",
   "metadata": {},
   "source": [
    "Si contiene o no valores *missings*:"
   ]
  },
  {
   "cell_type": "code",
   "execution_count": 24,
   "id": "c7379e1b-f26e-4397-a48c-2fab928e547e",
   "metadata": {
    "tags": []
   },
   "outputs": [
    {
     "data": {
      "text/plain": [
       "variance_wti    0\n",
       "skewness_wti    0\n",
       "kurtosis_wti    0\n",
       "entropy         0\n",
       "class           0\n",
       "dtype: int64"
      ]
     },
     "execution_count": 24,
     "metadata": {},
     "output_type": "execute_result"
    }
   ],
   "source": [
    "df.isnull().sum()"
   ]
  },
  {
   "cell_type": "markdown",
   "id": "432c2a48-c336-4f85-8865-eb5a996502e2",
   "metadata": {},
   "source": [
    "El tipo de cada una de las columnas:"
   ]
  },
  {
   "cell_type": "code",
   "execution_count": 25,
   "id": "a3fd7210-db56-45ba-93d6-f07bd3b54f63",
   "metadata": {
    "tags": []
   },
   "outputs": [
    {
     "data": {
      "text/plain": [
       "variance_wti    float64\n",
       "skewness_wti    float64\n",
       "kurtosis_wti    float64\n",
       "entropy         float64\n",
       "class             int64\n",
       "dtype: object"
      ]
     },
     "execution_count": 25,
     "metadata": {},
     "output_type": "execute_result"
    }
   ],
   "source": [
    "df.dtypes"
   ]
  },
  {
   "cell_type": "markdown",
   "id": "49550502-e9b8-4fd5-b435-07990fb7476d",
   "metadata": {},
   "source": [
    "Y un pequeño resumen de los estadísticos más importantes de las columnas numéricas:"
   ]
  },
  {
   "cell_type": "code",
   "execution_count": 26,
   "id": "eccb282a-4510-49dc-83ce-9a96f30bff5e",
   "metadata": {
    "tags": []
   },
   "outputs": [
    {
     "data": {
      "text/html": [
       "<div>\n",
       "<style scoped>\n",
       "    .dataframe tbody tr th:only-of-type {\n",
       "        vertical-align: middle;\n",
       "    }\n",
       "\n",
       "    .dataframe tbody tr th {\n",
       "        vertical-align: top;\n",
       "    }\n",
       "\n",
       "    .dataframe thead th {\n",
       "        text-align: right;\n",
       "    }\n",
       "</style>\n",
       "<table border=\"1\" class=\"dataframe\">\n",
       "  <thead>\n",
       "    <tr style=\"text-align: right;\">\n",
       "      <th></th>\n",
       "      <th>variance_wti</th>\n",
       "      <th>skewness_wti</th>\n",
       "      <th>kurtosis_wti</th>\n",
       "      <th>entropy</th>\n",
       "      <th>class</th>\n",
       "    </tr>\n",
       "  </thead>\n",
       "  <tbody>\n",
       "    <tr>\n",
       "      <th>count</th>\n",
       "      <td>1372.000000</td>\n",
       "      <td>1372.000000</td>\n",
       "      <td>1372.000000</td>\n",
       "      <td>1372.000000</td>\n",
       "      <td>1372.000000</td>\n",
       "    </tr>\n",
       "    <tr>\n",
       "      <th>mean</th>\n",
       "      <td>0.433735</td>\n",
       "      <td>1.922353</td>\n",
       "      <td>1.397627</td>\n",
       "      <td>-1.191657</td>\n",
       "      <td>0.444606</td>\n",
       "    </tr>\n",
       "    <tr>\n",
       "      <th>std</th>\n",
       "      <td>2.842763</td>\n",
       "      <td>5.869047</td>\n",
       "      <td>4.310030</td>\n",
       "      <td>2.101013</td>\n",
       "      <td>0.497103</td>\n",
       "    </tr>\n",
       "    <tr>\n",
       "      <th>min</th>\n",
       "      <td>-7.042100</td>\n",
       "      <td>-13.773100</td>\n",
       "      <td>-5.286100</td>\n",
       "      <td>-8.548200</td>\n",
       "      <td>0.000000</td>\n",
       "    </tr>\n",
       "    <tr>\n",
       "      <th>25%</th>\n",
       "      <td>-1.773000</td>\n",
       "      <td>-1.708200</td>\n",
       "      <td>-1.574975</td>\n",
       "      <td>-2.413450</td>\n",
       "      <td>0.000000</td>\n",
       "    </tr>\n",
       "    <tr>\n",
       "      <th>50%</th>\n",
       "      <td>0.496180</td>\n",
       "      <td>2.319650</td>\n",
       "      <td>0.616630</td>\n",
       "      <td>-0.586650</td>\n",
       "      <td>0.000000</td>\n",
       "    </tr>\n",
       "    <tr>\n",
       "      <th>75%</th>\n",
       "      <td>2.821475</td>\n",
       "      <td>6.814625</td>\n",
       "      <td>3.179250</td>\n",
       "      <td>0.394810</td>\n",
       "      <td>1.000000</td>\n",
       "    </tr>\n",
       "    <tr>\n",
       "      <th>max</th>\n",
       "      <td>6.824800</td>\n",
       "      <td>12.951600</td>\n",
       "      <td>17.927400</td>\n",
       "      <td>2.449500</td>\n",
       "      <td>1.000000</td>\n",
       "    </tr>\n",
       "  </tbody>\n",
       "</table>\n",
       "</div>"
      ],
      "text/plain": [
       "       variance_wti  skewness_wti  kurtosis_wti      entropy        class\n",
       "count   1372.000000   1372.000000   1372.000000  1372.000000  1372.000000\n",
       "mean       0.433735      1.922353      1.397627    -1.191657     0.444606\n",
       "std        2.842763      5.869047      4.310030     2.101013     0.497103\n",
       "min       -7.042100    -13.773100     -5.286100    -8.548200     0.000000\n",
       "25%       -1.773000     -1.708200     -1.574975    -2.413450     0.000000\n",
       "50%        0.496180      2.319650      0.616630    -0.586650     0.000000\n",
       "75%        2.821475      6.814625      3.179250     0.394810     1.000000\n",
       "max        6.824800     12.951600     17.927400     2.449500     1.000000"
      ]
     },
     "execution_count": 26,
     "metadata": {},
     "output_type": "execute_result"
    }
   ],
   "source": [
    "df.describe()"
   ]
  },
  {
   "cell_type": "markdown",
   "id": "b32ff396-56f9-4ab2-a42c-0a9a84327db6",
   "metadata": {},
   "source": [
    "Veamos también la distribución de ambas clases:"
   ]
  },
  {
   "cell_type": "code",
   "execution_count": 30,
   "id": "8eb394f3-ecfb-4ebf-8b5b-302de908392b",
   "metadata": {
    "tags": []
   },
   "outputs": [
    {
     "data": {
      "image/png": "[encoded data removed]",
      "text/plain": [
       "<Figure size 640x480 with 1 Axes>"
      ]
     },
     "metadata": {},
     "output_type": "display_data"
    }
   ],
   "source": [
    "import matplotlib.pyplot as plt\n",
    "\n",
    "df['class'].value_counts().plot(kind=\"bar\")\n",
    "plt.show()"
   ]
  },
  {
   "cell_type": "code",
   "execution_count": 32,
   "id": "9d64447a-381d-42e5-acfe-13d4064c7cbe",
   "metadata": {
    "tags": []
   },
   "outputs": [
    {
     "data": {
      "text/plain": [
       "0    762\n",
       "1    610\n",
       "Name: class, dtype: int64"
      ]
     },
     "execution_count": 32,
     "metadata": {},
     "output_type": "execute_result"
    }
   ],
   "source": [
    "df['class'].value_counts()"
   ]
  },
  {
   "cell_type": "markdown",
   "id": "7738594d-0a60-4df5-9349-3e411a255c99",
   "metadata": {},
   "source": [
    "Como podemos observar, la proporción entre observaciones positivas y negativas es cercana a 1. Esto indica que nos encontramos ante un dataset balanceado que plantea un problema de clasificación binaria."
   ]
  },
  {
   "cell_type": "markdown",
   "id": "ee0580ab-c293-43e5-a656-df45427d18e9",
   "metadata": {},
   "source": [
    "Tras este estudio de los datos disponibles, comencemos con la construcción del modelo. En primer lugar, separamos las variables independientes, *X*,  de la columna target, *Y*:"
   ]
  },
  {
   "cell_type": "code",
   "execution_count": 33,
   "id": "64087257-1bff-44da-abf2-11b80e73d878",
   "metadata": {
    "tags": []
   },
   "outputs": [],
   "source": [
    "X = df[df.columns[:-1]]\n",
    "y = df['class']"
   ]
  },
  {
   "cell_type": "markdown",
   "id": "c39e5033-c93a-49fe-87ee-e59e38262285",
   "metadata": {},
   "source": [
    "Ahora, hacemos uso de la librería sklearn para hacer un split 70-30 en datos de entrenamiento y test respectivamente:"
   ]
  },
  {
   "cell_type": "code",
   "execution_count": 50,
   "id": "b0f161c1-9315-473b-81af-aac87dc25c13",
   "metadata": {
    "tags": []
   },
   "outputs": [],
   "source": [
    "from sklearn.model_selection import train_test_split\n",
    "\n",
    "X_train, X_test, y_train, y_test = train_test_split(X, y, test_size = 0.3, random_state=42)"
   ]
  },
  {
   "cell_type": "markdown",
   "id": "f65009ed-297f-4a4d-b4a9-97beccffa599",
   "metadata": {},
   "source": [
    "A continuación, puesto que las redes neuronales son modelos basados en distancias, llevamos a cabo un proceso de reescalado de los datos de entrada. Empleando el StandardScaler de la librería de sklearn reescalamos las variables de modo que la media sea $0$ y la desviación estándar $1$:"
   ]
  },
  {
   "cell_type": "code",
   "execution_count": 65,
   "id": "d28ae141-d3c8-4225-aacb-89188504c3df",
   "metadata": {
    "tags": []
   },
   "outputs": [],
   "source": [
    "from sklearn.preprocessing import StandardScaler\n",
    "\n",
    "scaler =StandardScaler()\n",
    "X_train = scaler.fit_transform(X_train)\n",
    "X_test= scaler.transform(X_test)"
   ]
  },
  {
   "cell_type": "markdown",
   "id": "73d2cb0d-9b73-4946-9f86-7eee370fc76b",
   "metadata": {},
   "source": [
    "Una vez terminado el reescalado de los datos, empezamos con la construcción de la red:"
   ]
  },
  {
   "cell_type": "code",
   "execution_count": 74,
   "id": "6ed44c0a-dab4-47a0-bd4d-1832df03a636",
   "metadata": {
    "tags": []
   },
   "outputs": [
    {
     "name": "stdout",
     "output_type": "stream",
     "text": [
      "Epoch 1/20\n",
      "77/77 [==============================] - 1s 3ms/step - loss: 0.3607 - accuracy: 0.5391 - val_loss: 0.0808 - val_accuracy: 0.6406\n",
      "Epoch 2/20\n",
      "77/77 [==============================] - 0s 2ms/step - loss: 0.0479 - accuracy: 0.5716 - val_loss: 0.0166 - val_accuracy: 0.6354\n",
      "Epoch 3/20\n",
      "77/77 [==============================] - 0s 2ms/step - loss: 0.0223 - accuracy: 0.5768 - val_loss: 0.0100 - val_accuracy: 0.6458\n",
      "Epoch 4/20\n",
      "77/77 [==============================] - 0s 2ms/step - loss: 0.0152 - accuracy: 0.6576 - val_loss: 0.0072 - val_accuracy: 0.6719\n",
      "Epoch 5/20\n",
      "77/77 [==============================] - 0s 2ms/step - loss: 0.0116 - accuracy: 0.6628 - val_loss: 0.0049 - val_accuracy: 0.6562\n",
      "Epoch 6/20\n",
      "77/77 [==============================] - 0s 2ms/step - loss: 0.0084 - accuracy: 0.6328 - val_loss: 0.0036 - val_accuracy: 0.6510\n",
      "Epoch 7/20\n",
      "77/77 [==============================] - 0s 2ms/step - loss: 0.0066 - accuracy: 0.7005 - val_loss: 0.0029 - val_accuracy: 0.7708\n",
      "Epoch 8/20\n",
      "77/77 [==============================] - 0s 2ms/step - loss: 0.0046 - accuracy: 0.7148 - val_loss: 5.6451e-04 - val_accuracy: 0.6927\n",
      "Epoch 9/20\n",
      "77/77 [==============================] - 0s 2ms/step - loss: 0.0034 - accuracy: 0.7135 - val_loss: 7.4286e-04 - val_accuracy: 0.8073\n",
      "Epoch 10/20\n",
      "77/77 [==============================] - 0s 2ms/step - loss: 0.0033 - accuracy: 0.7552 - val_loss: 4.9090e-04 - val_accuracy: 0.8229\n",
      "Epoch 11/20\n",
      "77/77 [==============================] - 0s 2ms/step - loss: 0.0023 - accuracy: 0.7930 - val_loss: 4.5712e-05 - val_accuracy: 0.8750\n",
      "Epoch 12/20\n",
      "77/77 [==============================] - 0s 2ms/step - loss: 0.0018 - accuracy: 0.8294 - val_loss: 0.0000e+00 - val_accuracy: 0.8698\n",
      "Epoch 13/20\n",
      "77/77 [==============================] - 0s 2ms/step - loss: 0.0014 - accuracy: 0.8281 - val_loss: 0.0000e+00 - val_accuracy: 0.8802\n",
      "Epoch 14/20\n",
      "77/77 [==============================] - 0s 2ms/step - loss: 0.0011 - accuracy: 0.8203 - val_loss: 6.8876e-05 - val_accuracy: 0.8021\n",
      "Epoch 15/20\n",
      "77/77 [==============================] - 0s 2ms/step - loss: 8.2687e-04 - accuracy: 0.8125 - val_loss: 0.0000e+00 - val_accuracy: 0.8229\n",
      "Epoch 16/20\n",
      "77/77 [==============================] - 0s 2ms/step - loss: 7.2296e-04 - accuracy: 0.8099 - val_loss: 2.6175e-04 - val_accuracy: 0.8229\n",
      "Epoch 17/20\n",
      "77/77 [==============================] - 0s 2ms/step - loss: 5.8856e-04 - accuracy: 0.7969 - val_loss: 0.0000e+00 - val_accuracy: 0.7500\n",
      "Epoch 18/20\n",
      "77/77 [==============================] - 0s 2ms/step - loss: 5.7184e-04 - accuracy: 0.7799 - val_loss: 0.0000e+00 - val_accuracy: 0.8177\n",
      "Epoch 19/20\n",
      "77/77 [==============================] - 0s 2ms/step - loss: 9.7886e-05 - accuracy: 0.7852 - val_loss: 0.0000e+00 - val_accuracy: 0.7760\n",
      "Epoch 20/20\n",
      "77/77 [==============================] - 0s 2ms/step - loss: 1.0630e-04 - accuracy: 0.8086 - val_loss: 0.0000e+00 - val_accuracy: 0.8229\n"
     ]
    }
   ],
   "source": [
    "from keras.optimizers import Adam\n",
    "\n",
    "# Diseñamos la estructura de la red\n",
    "model = Sequential()\n",
    "model.add(Dense(64, input_shape=(4,), activation='relu'))\n",
    "model.add(Dense(32, activation='relu'))\n",
    "model.add(Dense(2))\n",
    "\n",
    "# Definimos la funcion de perdida y el optimizador\n",
    "adam = Adam()\n",
    "model.compile(loss='binary_crossentropy', optimizer=adam, metrics=['accuracy'])\n",
    "\n",
    "# Entrenamos el modelo, definimos los epoch y el porcentaje de observaciones que queremos dejar para la validacion\n",
    "history = model.fit(X_train, y_train, epochs=20, batch_size=10, validation_split=0.2)"
   ]
  },
  {
   "cell_type": "markdown",
   "id": "bff93246-8071-4613-8629-87004f80af27",
   "metadata": {},
   "source": [
    "Veamos cómo ha sido el proceso de aprendizaje de los parámetros del modelo y cómo ha sido su efecto en las diferentes pérdidas y exactitudes:"
   ]
  },
  {
   "cell_type": "code",
   "execution_count": 75,
   "id": "9f8f9f41-ae62-4be6-9472-e9e7fa6e7246",
   "metadata": {
    "tags": []
   },
   "outputs": [],
   "source": [
    "import pandas as pd\n",
    "\n",
    "model_history = pd.DataFrame(history.history)\n",
    "model_history['epoch'] = history.epoch"
   ]
  },
  {
   "cell_type": "code",
   "execution_count": 76,
   "id": "f18e0489-0fc0-4616-ae74-86df1124343a",
   "metadata": {
    "tags": []
   },
   "outputs": [
    {
     "data": {
      "text/html": [
       "<div>\n",
       "<style scoped>\n",
       "    .dataframe tbody tr th:only-of-type {\n",
       "        vertical-align: middle;\n",
       "    }\n",
       "\n",
       "    .dataframe tbody tr th {\n",
       "        vertical-align: top;\n",
       "    }\n",
       "\n",
       "    .dataframe thead th {\n",
       "        text-align: right;\n",
       "    }\n",
       "</style>\n",
       "<table border=\"1\" class=\"dataframe\">\n",
       "  <thead>\n",
       "    <tr style=\"text-align: right;\">\n",
       "      <th></th>\n",
       "      <th>loss</th>\n",
       "      <th>accuracy</th>\n",
       "      <th>val_loss</th>\n",
       "      <th>val_accuracy</th>\n",
       "      <th>epoch</th>\n",
       "    </tr>\n",
       "  </thead>\n",
       "  <tbody>\n",
       "    <tr>\n",
       "      <th>0</th>\n",
       "      <td>0.360735</td>\n",
       "      <td>0.539062</td>\n",
       "      <td>0.080784</td>\n",
       "      <td>0.640625</td>\n",
       "      <td>0</td>\n",
       "    </tr>\n",
       "    <tr>\n",
       "      <th>1</th>\n",
       "      <td>0.047909</td>\n",
       "      <td>0.571615</td>\n",
       "      <td>0.016558</td>\n",
       "      <td>0.635417</td>\n",
       "      <td>1</td>\n",
       "    </tr>\n",
       "    <tr>\n",
       "      <th>2</th>\n",
       "      <td>0.022312</td>\n",
       "      <td>0.576823</td>\n",
       "      <td>0.009954</td>\n",
       "      <td>0.645833</td>\n",
       "      <td>2</td>\n",
       "    </tr>\n",
       "    <tr>\n",
       "      <th>3</th>\n",
       "      <td>0.015176</td>\n",
       "      <td>0.657552</td>\n",
       "      <td>0.007231</td>\n",
       "      <td>0.671875</td>\n",
       "      <td>3</td>\n",
       "    </tr>\n",
       "    <tr>\n",
       "      <th>4</th>\n",
       "      <td>0.011557</td>\n",
       "      <td>0.662760</td>\n",
       "      <td>0.004944</td>\n",
       "      <td>0.656250</td>\n",
       "      <td>4</td>\n",
       "    </tr>\n",
       "  </tbody>\n",
       "</table>\n",
       "</div>"
      ],
      "text/plain": [
       "       loss  accuracy  val_loss  val_accuracy  epoch\n",
       "0  0.360735  0.539062  0.080784      0.640625      0\n",
       "1  0.047909  0.571615  0.016558      0.635417      1\n",
       "2  0.022312  0.576823  0.009954      0.645833      2\n",
       "3  0.015176  0.657552  0.007231      0.671875      3\n",
       "4  0.011557  0.662760  0.004944      0.656250      4"
      ]
     },
     "execution_count": 76,
     "metadata": {},
     "output_type": "execute_result"
    }
   ],
   "source": [
    "model_history.head()"
   ]
  },
  {
   "cell_type": "code",
   "execution_count": 77,
   "id": "44943761-e272-4caa-adc2-30a6142e676b",
   "metadata": {
    "tags": []
   },
   "outputs": [
    {
     "data": {
      "image/png": "[encoded data removed]",
      "text/plain": [
       "<Figure size 640x480 with 1 Axes>"
      ]
     },
     "metadata": {},
     "output_type": "display_data"
    }
   ],
   "source": [
    "import numpy as np\n",
    "import matplotlib.pyplot as plt\n",
    "\n",
    "plt.figure()\n",
    "plt.plot(model_history['epoch'], model_history['loss'], label='Pérdida de entrenamiento')\n",
    "plt.plot(model_history['epoch'], model_history['val_loss'], label='Pérdida de validación')\n",
    "plt.plot(model_history['epoch'], model_history['accuracy'], label='Exactitud de entrenamiento')\n",
    "plt.plot(model_history['epoch'], model_history['val_accuracy'], label='Exactitud de validación')\n",
    "plt.title('Pérdida y Exactitud')\n",
    "plt.xlabel('Epoch')\n",
    "plt.ylabel('Pérdida/Exactitud')\n",
    "plt.legend()\n",
    "plt.show()"
   ]
  },
  {
   "cell_type": "markdown",
   "id": "5408c369-be72-466c-adc8-1e35e515ca54",
   "metadata": {},
   "source": [
    "Con el objetivo de evitar el overfitting, para entrenar el modelo final que realizará la predicción de los patrones del conjunto de test, lo configuraremos con $epoch=5$:"
   ]
  },
  {
   "cell_type": "code",
   "execution_count": 79,
   "id": "4f842a5b-9ad5-4399-a9c7-b90562014682",
   "metadata": {
    "tags": []
   },
   "outputs": [
    {
     "name": "stdout",
     "output_type": "stream",
     "text": [
      "Epoch 1/5\n",
      "77/77 [==============================] - 1s 3ms/step - loss: 3.5977 - accuracy: 0.5208 - val_loss: 3.6705 - val_accuracy: 0.5938\n",
      "Epoch 2/5\n",
      "77/77 [==============================] - 0s 2ms/step - loss: 3.4116 - accuracy: 0.7188 - val_loss: 3.6273 - val_accuracy: 0.8385\n",
      "Epoch 3/5\n",
      "77/77 [==============================] - 0s 2ms/step - loss: 3.3977 - accuracy: 0.8633 - val_loss: 3.6208 - val_accuracy: 0.9219\n",
      "Epoch 4/5\n",
      "77/77 [==============================] - 0s 2ms/step - loss: 3.3934 - accuracy: 0.8971 - val_loss: 3.6207 - val_accuracy: 0.8802\n",
      "Epoch 5/5\n",
      "77/77 [==============================] - 0s 2ms/step - loss: 3.3909 - accuracy: 0.9010 - val_loss: 3.6201 - val_accuracy: 0.9062\n",
      "Accuracy = 0.9053\n"
     ]
    }
   ],
   "source": [
    "from keras import Sequential\n",
    "from keras.layers import Dense, Dropout\n",
    "from keras.optimizers import Adam\n",
    "\n",
    "# Diseñamos la estructura de la red\n",
    "model_final = Sequential()\n",
    "model_final.add(Dense(64, input_shape=(4,), activation='relu'))\n",
    "# model_final.add(Dropout(0.2, seed=42))\n",
    "model_final.add(Dense(32, activation='relu'))\n",
    "model_final.add(Dense(2))\n",
    "\n",
    "# Definimos la funcion de perdida y el optimizador\n",
    "adam = Adam()\n",
    "model_final.compile(loss='binary_crossentropy', optimizer=adam, metrics=['accuracy'])\n",
    "\n",
    "# Entrenamos el modelo, definimos los epoch y el porcentaje de observaciones que queremos dejar para la validacion\n",
    "history = model_final.fit(X_train, y_train, epochs=5, batch_size=10, validation_split=0.2)\n",
    "\n",
    "# Realizamos la prediccon\n",
    "loss, acc = model_final.evaluate(X_test, y_test, verbose=0)\n",
    "\n",
    "print('Accuracy = {:.4f}'.format(acc))"
   ]
  }
 ],
 "metadata": {
  "kernelspec": {
   "display_name": "Python 3 (ipykernel)",
   "language": "python",
   "name": "python3"
  },
  "language_info": {
   "codemirror_mode": {
    "name": "ipython",
    "version": 3
   },
   "file_extension": ".py",
   "mimetype": "text/x-python",
   "name": "python",
   "nbconvert_exporter": "python",
   "pygments_lexer": "ipython3",
   "version": "3.8.5"
  }
 },
 "nbformat": 4,
 "nbformat_minor": 5
}

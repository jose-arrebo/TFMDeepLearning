{
 "cells": [
  {
   "cell_type": "markdown",
   "id": "955e74ce-4ae9-44d3-890b-20d2074dff91",
   "metadata": {},
   "source": [
    "# Redes Neuronales Convolucionales (CNN)"
   ]
  },
  {
   "cell_type": "markdown",
   "id": "322aa094-49b9-4827-a3b1-1da77adb0660",
   "metadata": {},
   "source": [
    "Cargamos el conjunto de datos Fashion MNIST que trae la propia biblioteca de Keras:"
   ]
  },
  {
   "cell_type": "code",
   "execution_count": 1,
   "id": "05786c90-8d08-4def-a25d-ff7b2483c9be",
   "metadata": {
    "tags": []
   },
   "outputs": [],
   "source": [
    "import tensorflow as tf\n",
    "from tensorflow.keras.datasets import fashion_mnist\n",
    "\n",
    "(train_images, train_labels), (test_images, test_labels) = fashion_mnist.load_data()"
   ]
  },
  {
   "cell_type": "markdown",
   "id": "f12033eb-96e6-4e78-b2cf-6b3c087409ed",
   "metadata": {},
   "source": [
    "Visualicemos la primera imagen con su correspondiente etiqueta para comprobar que la carga de los datos ha tenido lugar con éxito:"
   ]
  },
  {
   "cell_type": "code",
   "execution_count": 2,
   "id": "f347273c-3c0b-450f-be33-e48db1fcd368",
   "metadata": {
    "tags": []
   },
   "outputs": [
    {
     "data": {
      "image/png": "[encoded data removed]",
      "text/plain": [
       "<Figure size 640x480 with 1 Axes>"
      ]
     },
     "metadata": {},
     "output_type": "display_data"
    }
   ],
   "source": [
    "import matplotlib.pyplot as plt\n",
    "\n",
    "indice_imagen = 0\n",
    "\n",
    "plt.imshow(train_images[indice_imagen], cmap='gray')\n",
    "plt.title(f'Etiqueta: {train_labels[indice_imagen]}')\n",
    "plt.show()"
   ]
  },
  {
   "cell_type": "code",
   "execution_count": 3,
   "id": "27aa4b52-036f-4bc8-96b1-23de19a649cf",
   "metadata": {
    "tags": []
   },
   "outputs": [
    {
     "data": {
      "text/plain": [
       "array([[  0,   0,   0,   0,   0,   0,   0,   0,   0,   0,   0,   0,   0,\n",
       "          0,   0,   0,   0,   0,   0,   0,   0,   0,   0,   0,   0,   0,\n",
       "          0,   0],\n",
       "       [  0,   0,   0,   0,   0,   0,   0,   0,   0,   0,   0,   0,   0,\n",
       "          0,   0,   0,   0,   0,   0,   0,   0,   0,   0,   0,   0,   0,\n",
       "          0,   0],\n",
       "       [  0,   0,   0,   0,   0,   0,   0,   0,   0,   0,   0,   0,   0,\n",
       "          0,   0,   0,   0,   0,   0,   0,   0,   0,   0,   0,   0,   0,\n",
       "          0,   0],\n",
       "       [  0,   0,   0,   0,   0,   0,   0,   0,   0,   0,   0,   0,   1,\n",
       "          0,   0,  13,  73,   0,   0,   1,   4,   0,   0,   0,   0,   1,\n",
       "          1,   0],\n",
       "       [  0,   0,   0,   0,   0,   0,   0,   0,   0,   0,   0,   0,   3,\n",
       "          0,  36, 136, 127,  62,  54,   0,   0,   0,   1,   3,   4,   0,\n",
       "          0,   3],\n",
       "       [  0,   0,   0,   0,   0,   0,   0,   0,   0,   0,   0,   0,   6,\n",
       "          0, 102, 204, 176, 134, 144, 123,  23,   0,   0,   0,   0,  12,\n",
       "         10,   0],\n",
       "       [  0,   0,   0,   0,   0,   0,   0,   0,   0,   0,   0,   0,   0,\n",
       "          0, 155, 236, 207, 178, 107, 156, 161, 109,  64,  23,  77, 130,\n",
       "         72,  15],\n",
       "       [  0,   0,   0,   0,   0,   0,   0,   0,   0,   0,   0,   1,   0,\n",
       "         69, 207, 223, 218, 216, 216, 163, 127, 121, 122, 146, 141,  88,\n",
       "        172,  66],\n",
       "       [  0,   0,   0,   0,   0,   0,   0,   0,   0,   1,   1,   1,   0,\n",
       "        200, 232, 232, 233, 229, 223, 223, 215, 213, 164, 127, 123, 196,\n",
       "        229,   0],\n",
       "       [  0,   0,   0,   0,   0,   0,   0,   0,   0,   0,   0,   0,   0,\n",
       "        183, 225, 216, 223, 228, 235, 227, 224, 222, 224, 221, 223, 245,\n",
       "        173,   0],\n",
       "       [  0,   0,   0,   0,   0,   0,   0,   0,   0,   0,   0,   0,   0,\n",
       "        193, 228, 218, 213, 198, 180, 212, 210, 211, 213, 223, 220, 243,\n",
       "        202,   0],\n",
       "       [  0,   0,   0,   0,   0,   0,   0,   0,   0,   1,   3,   0,  12,\n",
       "        219, 220, 212, 218, 192, 169, 227, 208, 218, 224, 212, 226, 197,\n",
       "        209,  52],\n",
       "       [  0,   0,   0,   0,   0,   0,   0,   0,   0,   0,   6,   0,  99,\n",
       "        244, 222, 220, 218, 203, 198, 221, 215, 213, 222, 220, 245, 119,\n",
       "        167,  56],\n",
       "       [  0,   0,   0,   0,   0,   0,   0,   0,   0,   4,   0,   0,  55,\n",
       "        236, 228, 230, 228, 240, 232, 213, 218, 223, 234, 217, 217, 209,\n",
       "         92,   0],\n",
       "       [  0,   0,   1,   4,   6,   7,   2,   0,   0,   0,   0,   0, 237,\n",
       "        226, 217, 223, 222, 219, 222, 221, 216, 223, 229, 215, 218, 255,\n",
       "         77,   0],\n",
       "       [  0,   3,   0,   0,   0,   0,   0,   0,   0,  62, 145, 204, 228,\n",
       "        207, 213, 221, 218, 208, 211, 218, 224, 223, 219, 215, 224, 244,\n",
       "        159,   0],\n",
       "       [  0,   0,   0,   0,  18,  44,  82, 107, 189, 228, 220, 222, 217,\n",
       "        226, 200, 205, 211, 230, 224, 234, 176, 188, 250, 248, 233, 238,\n",
       "        215,   0],\n",
       "       [  0,  57, 187, 208, 224, 221, 224, 208, 204, 214, 208, 209, 200,\n",
       "        159, 245, 193, 206, 223, 255, 255, 221, 234, 221, 211, 220, 232,\n",
       "        246,   0],\n",
       "       [  3, 202, 228, 224, 221, 211, 211, 214, 205, 205, 205, 220, 240,\n",
       "         80, 150, 255, 229, 221, 188, 154, 191, 210, 204, 209, 222, 228,\n",
       "        225,   0],\n",
       "       [ 98, 233, 198, 210, 222, 229, 229, 234, 249, 220, 194, 215, 217,\n",
       "        241,  65,  73, 106, 117, 168, 219, 221, 215, 217, 223, 223, 224,\n",
       "        229,  29],\n",
       "       [ 75, 204, 212, 204, 193, 205, 211, 225, 216, 185, 197, 206, 198,\n",
       "        213, 240, 195, 227, 245, 239, 223, 218, 212, 209, 222, 220, 221,\n",
       "        230,  67],\n",
       "       [ 48, 203, 183, 194, 213, 197, 185, 190, 194, 192, 202, 214, 219,\n",
       "        221, 220, 236, 225, 216, 199, 206, 186, 181, 177, 172, 181, 205,\n",
       "        206, 115],\n",
       "       [  0, 122, 219, 193, 179, 171, 183, 196, 204, 210, 213, 207, 211,\n",
       "        210, 200, 196, 194, 191, 195, 191, 198, 192, 176, 156, 167, 177,\n",
       "        210,  92],\n",
       "       [  0,   0,  74, 189, 212, 191, 175, 172, 175, 181, 185, 188, 189,\n",
       "        188, 193, 198, 204, 209, 210, 210, 211, 188, 188, 194, 192, 216,\n",
       "        170,   0],\n",
       "       [  2,   0,   0,   0,  66, 200, 222, 237, 239, 242, 246, 243, 244,\n",
       "        221, 220, 193, 191, 179, 182, 182, 181, 176, 166, 168,  99,  58,\n",
       "          0,   0],\n",
       "       [  0,   0,   0,   0,   0,   0,   0,  40,  61,  44,  72,  41,  35,\n",
       "          0,   0,   0,   0,   0,   0,   0,   0,   0,   0,   0,   0,   0,\n",
       "          0,   0],\n",
       "       [  0,   0,   0,   0,   0,   0,   0,   0,   0,   0,   0,   0,   0,\n",
       "          0,   0,   0,   0,   0,   0,   0,   0,   0,   0,   0,   0,   0,\n",
       "          0,   0],\n",
       "       [  0,   0,   0,   0,   0,   0,   0,   0,   0,   0,   0,   0,   0,\n",
       "          0,   0,   0,   0,   0,   0,   0,   0,   0,   0,   0,   0,   0,\n",
       "          0,   0]], dtype=uint8)"
      ]
     },
     "execution_count": 3,
     "metadata": {},
     "output_type": "execute_result"
    }
   ],
   "source": [
    "train_images[0]"
   ]
  },
  {
   "cell_type": "markdown",
   "id": "9a40716a-409a-4747-a7b4-c605a247d809",
   "metadata": {},
   "source": [
    "Una vez hemos cargado los datos, veamos cómo los hemos almacenado:"
   ]
  },
  {
   "cell_type": "code",
   "execution_count": 4,
   "id": "4c3f0246-d9ef-4b8f-b1de-094429aa250b",
   "metadata": {
    "tags": []
   },
   "outputs": [
    {
     "data": {
      "text/plain": [
       "(60000, 28, 28)"
      ]
     },
     "execution_count": 4,
     "metadata": {},
     "output_type": "execute_result"
    }
   ],
   "source": [
    "train_images.shape"
   ]
  },
  {
   "cell_type": "markdown",
   "id": "9d53a8ec-b64f-44de-9b42-67c26c918368",
   "metadata": {},
   "source": [
    "Como podemos observar, tenemos $60000$ imágenes en el conjunto de entrenamiento, de modo que cada imagen se encuentra almacenada en forma de una matriz $28 x 28$. Veamos también cuántas observaciones tenemos en cada una de las $10$ clases:"
   ]
  },
  {
   "cell_type": "code",
   "execution_count": 5,
   "id": "c6dd6659-6c46-4960-ad1e-5e5f7eca4a79",
   "metadata": {
    "tags": []
   },
   "outputs": [
    {
     "data": {
      "image/png": "[encoded data removed]",
      "text/plain": [
       "<Figure size 640x480 with 1 Axes>"
      ]
     },
     "metadata": {},
     "output_type": "display_data"
    }
   ],
   "source": [
    "import numpy as np\n",
    "import matplotlib.pyplot as plt\n",
    "\n",
    "plt.hist(train_labels)\n",
    "plt.show()"
   ]
  },
  {
   "cell_type": "markdown",
   "id": "777d5481-8eeb-48b1-909a-9a8388055c44",
   "metadata": {},
   "source": [
    "Podemos afirmar que nos encontramos ante un dataset equilibrado puesto que observamos que cada una de las diez clases tienen el mismo número de observaciones. Transformaremos las etiquetas en una matriz binaria de clases para poder emplearlas en el modelo:"
   ]
  },
  {
   "cell_type": "code",
   "execution_count": 17,
   "id": "9814ed59-0843-40d8-a061-fce1e02bb56a",
   "metadata": {
    "tags": []
   },
   "outputs": [],
   "source": [
    "from tensorflow import keras\n",
    "from keras.utils import np_utils\n",
    "\n",
    "class_num=np.unique(train_labels).size\n",
    "y_train=np_utils.to_categorical(train_labels,class_num)\n",
    "y_test=np_utils.to_categorical(test_labels,class_num)"
   ]
  },
  {
   "cell_type": "code",
   "execution_count": 18,
   "id": "23a429f7-73f1-4876-83dd-d3e8b76d4a2a",
   "metadata": {
    "tags": []
   },
   "outputs": [
    {
     "data": {
      "text/plain": [
       "(60000, 10)"
      ]
     },
     "execution_count": 18,
     "metadata": {},
     "output_type": "execute_result"
    }
   ],
   "source": [
    "y_train.shape"
   ]
  },
  {
   "cell_type": "code",
   "execution_count": 19,
   "id": "6063fef8-5a77-4daa-9af7-eb04faa720ee",
   "metadata": {
    "tags": []
   },
   "outputs": [
    {
     "data": {
      "text/plain": [
       "(10000, 10)"
      ]
     },
     "execution_count": 19,
     "metadata": {},
     "output_type": "execute_result"
    }
   ],
   "source": [
    "y_test.shape"
   ]
  },
  {
   "cell_type": "markdown",
   "id": "43e4825c-dd28-4901-890d-884b90c3fd00",
   "metadata": {},
   "source": [
    "Y aplicaremos un reescalado de lo datos para evitar problemas de inestabilidad numérica. Puesto que sabemos que los datos son provenientes de imágenes, sabemos que los valores de los arrays se mueven entre $0$ y $255$. Si dividimos los valores entre $255$, obtendremos valores que se mueven en el rango $[0,1]$:"
   ]
  },
  {
   "cell_type": "code",
   "execution_count": 20,
   "id": "b40e4e93-ee54-4ccf-80fd-af739b5e2b4d",
   "metadata": {
    "tags": []
   },
   "outputs": [],
   "source": [
    "X_train = train_images.astype('float32')\n",
    "X_test = test_images.astype('float32')\n",
    "X_train = X_train / 255.0\n",
    "X_test = X_test / 255.0"
   ]
  },
  {
   "cell_type": "markdown",
   "id": "31d3bfd5-a42e-43ce-9af1-edb3fc7935e9",
   "metadata": {},
   "source": [
    "Una vez tenemos los datos tratados, podemos comenzar a entrenar una Red Neuronal Convolucional (CNN) que trate de resolver este problema de clasificación multiclase. En primer lugar, diseñamos la estructura de la red:"
   ]
  },
  {
   "cell_type": "code",
   "execution_count": 21,
   "id": "c2ca9e26-064c-43b3-b20e-956e68ccc470",
   "metadata": {
    "tags": []
   },
   "outputs": [],
   "source": [
    "from keras import Sequential\n",
    "from keras.layers import Flatten, Dropout, Dense, Conv2D, MaxPooling2D\n",
    "\n",
    "model = keras.Sequential()\n",
    "model.add(Conv2D(16, kernel_size=(3, 3), activation='relu', input_shape=(28, 28, 1)))\n",
    "model.add(MaxPooling2D((2, 2)))\n",
    "model.add(Dropout(0.2))\n",
    "\n",
    "model.add(Conv2D(16, (3, 3), activation='relu'))\n",
    "model.add(MaxPooling2D((2, 2)))\n",
    "model.add(Dropout(0.2))\n",
    "\n",
    "model.add(Conv2D(32, (3, 3), activation='relu'))\n",
    "model.add(MaxPooling2D((2, 2)))\n",
    "model.add(Dropout(0.2))\n",
    "\n",
    "model.add(Flatten())\n",
    "model.add(Dense(64, activation='relu'))\n",
    "model.add(Dropout(0.2))\n",
    "\n",
    "model.add(Dense(10, activation='softmax'))"
   ]
  },
  {
   "cell_type": "markdown",
   "id": "217ee22d-13c1-4068-9ac1-3c038cfe0f31",
   "metadata": {},
   "source": [
    "Definimos la función de pérdida, el optimizador y la métrica que evaluará el rendimiento:"
   ]
  },
  {
   "cell_type": "code",
   "execution_count": 22,
   "id": "25963d10-6b4a-4ca3-9b81-fee3c3a37897",
   "metadata": {
    "tags": []
   },
   "outputs": [],
   "source": [
    "model.compile(loss='categorical_crossentropy', optimizer='adam', metrics=['accuracy'])"
   ]
  },
  {
   "cell_type": "markdown",
   "id": "775a251d-65c8-4e21-ab8a-ec5864b425ce",
   "metadata": {},
   "source": [
    "Por último, definimos los epoch, el porcentaje de observaciones que queremos dejar para la validación y procedemos a entrenar el modelo:"
   ]
  },
  {
   "cell_type": "code",
   "execution_count": 23,
   "id": "c0db7f88-31ec-4ef5-9574-825a247c2213",
   "metadata": {
    "tags": []
   },
   "outputs": [
    {
     "name": "stdout",
     "output_type": "stream",
     "text": [
      "Epoch 1/50\n",
      "1500/1500 [==============================] - 12s 8ms/step - loss: 0.9737 - accuracy: 0.6351 - val_loss: 0.6258 - val_accuracy: 0.7670\n",
      "Epoch 2/50\n",
      "1500/1500 [==============================] - 11s 7ms/step - loss: 0.6836 - accuracy: 0.7483 - val_loss: 0.5571 - val_accuracy: 0.7975\n",
      "Epoch 3/50\n",
      "1500/1500 [==============================] - 11s 8ms/step - loss: 0.6290 - accuracy: 0.7713 - val_loss: 0.5146 - val_accuracy: 0.8125\n",
      "Epoch 4/50\n",
      "1500/1500 [==============================] - 11s 8ms/step - loss: 0.5917 - accuracy: 0.7846 - val_loss: 0.4981 - val_accuracy: 0.8180\n",
      "Epoch 5/50\n",
      "1500/1500 [==============================] - 11s 8ms/step - loss: 0.5600 - accuracy: 0.7959 - val_loss: 0.4529 - val_accuracy: 0.8317\n",
      "Epoch 6/50\n",
      "1500/1500 [==============================] - 11s 8ms/step - loss: 0.5394 - accuracy: 0.8012 - val_loss: 0.4383 - val_accuracy: 0.8376\n",
      "Epoch 7/50\n",
      "1500/1500 [==============================] - 11s 7ms/step - loss: 0.5219 - accuracy: 0.8086 - val_loss: 0.4287 - val_accuracy: 0.8400\n",
      "Epoch 8/50\n",
      "1500/1500 [==============================] - 11s 7ms/step - loss: 0.5084 - accuracy: 0.8134 - val_loss: 0.4088 - val_accuracy: 0.8475\n",
      "Epoch 9/50\n",
      "1500/1500 [==============================] - 11s 8ms/step - loss: 0.4998 - accuracy: 0.8178 - val_loss: 0.4070 - val_accuracy: 0.8512\n",
      "Epoch 10/50\n",
      "1500/1500 [==============================] - 11s 8ms/step - loss: 0.4877 - accuracy: 0.8211 - val_loss: 0.3965 - val_accuracy: 0.8546\n",
      "Epoch 11/50\n",
      "1500/1500 [==============================] - 11s 8ms/step - loss: 0.4839 - accuracy: 0.8231 - val_loss: 0.3926 - val_accuracy: 0.8547\n",
      "Epoch 12/50\n",
      "1500/1500 [==============================] - 11s 8ms/step - loss: 0.4756 - accuracy: 0.8259 - val_loss: 0.3858 - val_accuracy: 0.8592\n",
      "Epoch 13/50\n",
      "1500/1500 [==============================] - 11s 8ms/step - loss: 0.4740 - accuracy: 0.8287 - val_loss: 0.3832 - val_accuracy: 0.8577\n",
      "Epoch 14/50\n",
      "1500/1500 [==============================] - 11s 8ms/step - loss: 0.4702 - accuracy: 0.8306 - val_loss: 0.3828 - val_accuracy: 0.8605\n",
      "Epoch 15/50\n",
      "1500/1500 [==============================] - 11s 8ms/step - loss: 0.4630 - accuracy: 0.8317 - val_loss: 0.3809 - val_accuracy: 0.8632\n",
      "Epoch 16/50\n",
      "1500/1500 [==============================] - 11s 8ms/step - loss: 0.4572 - accuracy: 0.8343 - val_loss: 0.3777 - val_accuracy: 0.8625\n",
      "Epoch 17/50\n",
      "1500/1500 [==============================] - 11s 8ms/step - loss: 0.4584 - accuracy: 0.8326 - val_loss: 0.3732 - val_accuracy: 0.8633\n",
      "Epoch 18/50\n",
      "1500/1500 [==============================] - 11s 8ms/step - loss: 0.4547 - accuracy: 0.8354 - val_loss: 0.3715 - val_accuracy: 0.8651\n",
      "Epoch 19/50\n",
      "1500/1500 [==============================] - 11s 8ms/step - loss: 0.4538 - accuracy: 0.8354 - val_loss: 0.3667 - val_accuracy: 0.8665\n",
      "Epoch 20/50\n",
      "1500/1500 [==============================] - 11s 7ms/step - loss: 0.4465 - accuracy: 0.8367 - val_loss: 0.3683 - val_accuracy: 0.8661\n",
      "Epoch 21/50\n",
      "1500/1500 [==============================] - 11s 7ms/step - loss: 0.4453 - accuracy: 0.8393 - val_loss: 0.3706 - val_accuracy: 0.8619\n",
      "Epoch 22/50\n",
      "1500/1500 [==============================] - 11s 8ms/step - loss: 0.4444 - accuracy: 0.8373 - val_loss: 0.3742 - val_accuracy: 0.8596\n",
      "Epoch 23/50\n",
      "1500/1500 [==============================] - 11s 8ms/step - loss: 0.4414 - accuracy: 0.8391 - val_loss: 0.3641 - val_accuracy: 0.8673\n",
      "Epoch 24/50\n",
      "1500/1500 [==============================] - 11s 7ms/step - loss: 0.4388 - accuracy: 0.8406 - val_loss: 0.3662 - val_accuracy: 0.8626\n",
      "Epoch 25/50\n",
      "1500/1500 [==============================] - 11s 7ms/step - loss: 0.4398 - accuracy: 0.8399 - val_loss: 0.3579 - val_accuracy: 0.8640\n",
      "Epoch 26/50\n",
      "1500/1500 [==============================] - 11s 7ms/step - loss: 0.4383 - accuracy: 0.8409 - val_loss: 0.3588 - val_accuracy: 0.8683\n",
      "Epoch 27/50\n",
      "1500/1500 [==============================] - 11s 8ms/step - loss: 0.4365 - accuracy: 0.8420 - val_loss: 0.3592 - val_accuracy: 0.8671\n",
      "Epoch 28/50\n",
      "1500/1500 [==============================] - 11s 8ms/step - loss: 0.4349 - accuracy: 0.8438 - val_loss: 0.3586 - val_accuracy: 0.8666\n",
      "Epoch 29/50\n",
      "1500/1500 [==============================] - 11s 8ms/step - loss: 0.4376 - accuracy: 0.8415 - val_loss: 0.3550 - val_accuracy: 0.8683\n",
      "Epoch 30/50\n",
      "1500/1500 [==============================] - 11s 8ms/step - loss: 0.4303 - accuracy: 0.8449 - val_loss: 0.3542 - val_accuracy: 0.8709\n",
      "Epoch 31/50\n",
      "1500/1500 [==============================] - 11s 8ms/step - loss: 0.4294 - accuracy: 0.8450 - val_loss: 0.3593 - val_accuracy: 0.8647\n",
      "Epoch 32/50\n",
      "1500/1500 [==============================] - 11s 8ms/step - loss: 0.4330 - accuracy: 0.8434 - val_loss: 0.3724 - val_accuracy: 0.8572\n",
      "Epoch 33/50\n",
      "1500/1500 [==============================] - 11s 8ms/step - loss: 0.4305 - accuracy: 0.8425 - val_loss: 0.3565 - val_accuracy: 0.8673\n",
      "Epoch 34/50\n",
      "1500/1500 [==============================] - 11s 8ms/step - loss: 0.4302 - accuracy: 0.8432 - val_loss: 0.3614 - val_accuracy: 0.8617\n",
      "Epoch 35/50\n",
      "1500/1500 [==============================] - 11s 8ms/step - loss: 0.4263 - accuracy: 0.8454 - val_loss: 0.3619 - val_accuracy: 0.8645\n",
      "Epoch 36/50\n",
      "1500/1500 [==============================] - 11s 8ms/step - loss: 0.4288 - accuracy: 0.8446 - val_loss: 0.3621 - val_accuracy: 0.8638\n",
      "Epoch 37/50\n",
      "1500/1500 [==============================] - 11s 8ms/step - loss: 0.4248 - accuracy: 0.8445 - val_loss: 0.3483 - val_accuracy: 0.8708\n",
      "Epoch 38/50\n",
      "1500/1500 [==============================] - 11s 8ms/step - loss: 0.4267 - accuracy: 0.8444 - val_loss: 0.3488 - val_accuracy: 0.8708\n",
      "Epoch 39/50\n",
      "1500/1500 [==============================] - 11s 8ms/step - loss: 0.4280 - accuracy: 0.8445 - val_loss: 0.3511 - val_accuracy: 0.8700\n",
      "Epoch 40/50\n",
      "1500/1500 [==============================] - 11s 8ms/step - loss: 0.4216 - accuracy: 0.8462 - val_loss: 0.3547 - val_accuracy: 0.8658\n",
      "Epoch 41/50\n",
      "1500/1500 [==============================] - 11s 7ms/step - loss: 0.4245 - accuracy: 0.8438 - val_loss: 0.3667 - val_accuracy: 0.8589\n",
      "Epoch 42/50\n",
      "1500/1500 [==============================] - 11s 8ms/step - loss: 0.4244 - accuracy: 0.8455 - val_loss: 0.3480 - val_accuracy: 0.8698\n",
      "Epoch 43/50\n",
      "1500/1500 [==============================] - 11s 8ms/step - loss: 0.4190 - accuracy: 0.8486 - val_loss: 0.3427 - val_accuracy: 0.8714\n",
      "Epoch 44/50\n",
      "1500/1500 [==============================] - 11s 8ms/step - loss: 0.4206 - accuracy: 0.8465 - val_loss: 0.3448 - val_accuracy: 0.8735\n",
      "Epoch 45/50\n",
      "1500/1500 [==============================] - 11s 8ms/step - loss: 0.4221 - accuracy: 0.8460 - val_loss: 0.3572 - val_accuracy: 0.8650\n",
      "Epoch 46/50\n",
      "1500/1500 [==============================] - 11s 8ms/step - loss: 0.4228 - accuracy: 0.8457 - val_loss: 0.3453 - val_accuracy: 0.8712\n",
      "Epoch 47/50\n",
      "1500/1500 [==============================] - 11s 8ms/step - loss: 0.4210 - accuracy: 0.8489 - val_loss: 0.3421 - val_accuracy: 0.8708\n",
      "Epoch 48/50\n",
      "1500/1500 [==============================] - 11s 8ms/step - loss: 0.4173 - accuracy: 0.8486 - val_loss: 0.3424 - val_accuracy: 0.8710\n",
      "Epoch 49/50\n",
      "1500/1500 [==============================] - 11s 8ms/step - loss: 0.4164 - accuracy: 0.8475 - val_loss: 0.3377 - val_accuracy: 0.8727\n",
      "Epoch 50/50\n",
      "1500/1500 [==============================] - 11s 8ms/step - loss: 0.4133 - accuracy: 0.8491 - val_loss: 0.3470 - val_accuracy: 0.8725\n"
     ]
    }
   ],
   "source": [
    "history = model.fit(X_train, y_train, validation_split=0.2, epochs=50)"
   ]
  },
  {
   "cell_type": "markdown",
   "id": "077017c9-8e07-4872-90fa-ad0d47fb75e6",
   "metadata": {},
   "source": [
    "Veamos cómo ha sido el proceso de aprendizaje de los parámetros del modelo y cómo ha sido su efecto en las diferentes pérdidas y exactitudes:"
   ]
  },
  {
   "cell_type": "code",
   "execution_count": 24,
   "id": "9f8f9f41-ae62-4be6-9472-e9e7fa6e7246",
   "metadata": {
    "tags": []
   },
   "outputs": [],
   "source": [
    "import pandas as pd\n",
    "\n",
    "model_history = pd.DataFrame(history.history)\n",
    "model_history['epoch'] = history.epoch"
   ]
  },
  {
   "cell_type": "code",
   "execution_count": 25,
   "id": "f18e0489-0fc0-4616-ae74-86df1124343a",
   "metadata": {
    "tags": []
   },
   "outputs": [
    {
     "data": {
      "text/html": [
       "<div>\n",
       "<style scoped>\n",
       "    .dataframe tbody tr th:only-of-type {\n",
       "        vertical-align: middle;\n",
       "    }\n",
       "\n",
       "    .dataframe tbody tr th {\n",
       "        vertical-align: top;\n",
       "    }\n",
       "\n",
       "    .dataframe thead th {\n",
       "        text-align: right;\n",
       "    }\n",
       "</style>\n",
       "<table border=\"1\" class=\"dataframe\">\n",
       "  <thead>\n",
       "    <tr style=\"text-align: right;\">\n",
       "      <th></th>\n",
       "      <th>loss</th>\n",
       "      <th>accuracy</th>\n",
       "      <th>val_loss</th>\n",
       "      <th>val_accuracy</th>\n",
       "      <th>epoch</th>\n",
       "    </tr>\n",
       "  </thead>\n",
       "  <tbody>\n",
       "    <tr>\n",
       "      <th>0</th>\n",
       "      <td>0.973653</td>\n",
       "      <td>0.635125</td>\n",
       "      <td>0.625834</td>\n",
       "      <td>0.767000</td>\n",
       "      <td>0</td>\n",
       "    </tr>\n",
       "    <tr>\n",
       "      <th>1</th>\n",
       "      <td>0.683561</td>\n",
       "      <td>0.748292</td>\n",
       "      <td>0.557066</td>\n",
       "      <td>0.797500</td>\n",
       "      <td>1</td>\n",
       "    </tr>\n",
       "    <tr>\n",
       "      <th>2</th>\n",
       "      <td>0.629023</td>\n",
       "      <td>0.771312</td>\n",
       "      <td>0.514607</td>\n",
       "      <td>0.812500</td>\n",
       "      <td>2</td>\n",
       "    </tr>\n",
       "    <tr>\n",
       "      <th>3</th>\n",
       "      <td>0.591707</td>\n",
       "      <td>0.784563</td>\n",
       "      <td>0.498053</td>\n",
       "      <td>0.818000</td>\n",
       "      <td>3</td>\n",
       "    </tr>\n",
       "    <tr>\n",
       "      <th>4</th>\n",
       "      <td>0.560026</td>\n",
       "      <td>0.795896</td>\n",
       "      <td>0.452876</td>\n",
       "      <td>0.831667</td>\n",
       "      <td>4</td>\n",
       "    </tr>\n",
       "  </tbody>\n",
       "</table>\n",
       "</div>"
      ],
      "text/plain": [
       "       loss  accuracy  val_loss  val_accuracy  epoch\n",
       "0  0.973653  0.635125  0.625834      0.767000      0\n",
       "1  0.683561  0.748292  0.557066      0.797500      1\n",
       "2  0.629023  0.771312  0.514607      0.812500      2\n",
       "3  0.591707  0.784563  0.498053      0.818000      3\n",
       "4  0.560026  0.795896  0.452876      0.831667      4"
      ]
     },
     "execution_count": 25,
     "metadata": {},
     "output_type": "execute_result"
    }
   ],
   "source": [
    "model_history.head()"
   ]
  },
  {
   "cell_type": "code",
   "execution_count": 26,
   "id": "44943761-e272-4caa-adc2-30a6142e676b",
   "metadata": {
    "tags": []
   },
   "outputs": [
    {
     "data": {
      "image/png": "[encoded data removed]",
      "text/plain": [
       "<Figure size 640x480 with 1 Axes>"
      ]
     },
     "metadata": {},
     "output_type": "display_data"
    }
   ],
   "source": [
    "plt.figure()\n",
    "plt.plot(model_history['epoch'], model_history['loss'], label='Pérdida de entrenamiento')\n",
    "plt.plot(model_history['epoch'], model_history['val_loss'], label='Pérdida de validación')\n",
    "plt.plot(model_history['epoch'], model_history['accuracy'], label='Exactitud de entrenamiento')\n",
    "plt.plot(model_history['epoch'], model_history['val_accuracy'], label='Exactitud de validación')\n",
    "plt.title('Pérdida y Exactitud')\n",
    "plt.xlabel('Epoch')\n",
    "plt.ylabel('Pérdida/Exactitud')\n",
    "plt.legend()\n",
    "plt.show()"
   ]
  },
  {
   "cell_type": "markdown",
   "id": "62a160f9-70a6-4ab4-8c59-b207fd6439cd",
   "metadata": {},
   "source": [
    "Con el objetivo de evitar el *overfitting*, para entrenar el modelo final que realizará la predicción de los patrones del conjunto de test, lo configuraremos con $epoch=15$:"
   ]
  },
  {
   "cell_type": "code",
   "execution_count": 28,
   "id": "aaeea6fc-830a-45ad-baef-83373d4330cf",
   "metadata": {
    "tags": []
   },
   "outputs": [
    {
     "name": "stdout",
     "output_type": "stream",
     "text": [
      "Epoch 1/15\n",
      "1500/1500 [==============================] - 12s 8ms/step - loss: 0.9818 - accuracy: 0.6323 - val_loss: 0.6314 - val_accuracy: 0.7626\n",
      "Epoch 2/15\n",
      "1500/1500 [==============================] - 11s 7ms/step - loss: 0.7047 - accuracy: 0.7375 - val_loss: 0.5620 - val_accuracy: 0.7839\n",
      "Epoch 3/15\n",
      "1500/1500 [==============================] - 11s 7ms/step - loss: 0.6458 - accuracy: 0.7589 - val_loss: 0.5288 - val_accuracy: 0.8095\n",
      "Epoch 4/15\n",
      "1500/1500 [==============================] - 11s 8ms/step - loss: 0.6081 - accuracy: 0.7756 - val_loss: 0.5190 - val_accuracy: 0.8002\n",
      "Epoch 5/15\n",
      "1500/1500 [==============================] - 11s 8ms/step - loss: 0.5827 - accuracy: 0.7865 - val_loss: 0.4762 - val_accuracy: 0.8224\n",
      "Epoch 6/15\n",
      "1500/1500 [==============================] - 11s 8ms/step - loss: 0.5630 - accuracy: 0.7935 - val_loss: 0.4693 - val_accuracy: 0.8249\n",
      "Epoch 7/15\n",
      "1500/1500 [==============================] - 11s 8ms/step - loss: 0.5421 - accuracy: 0.8010 - val_loss: 0.4406 - val_accuracy: 0.8344\n",
      "Epoch 8/15\n",
      "1500/1500 [==============================] - 11s 7ms/step - loss: 0.5204 - accuracy: 0.8101 - val_loss: 0.4213 - val_accuracy: 0.8450\n",
      "Epoch 9/15\n",
      "1500/1500 [==============================] - 11s 8ms/step - loss: 0.5146 - accuracy: 0.8126 - val_loss: 0.4162 - val_accuracy: 0.8481\n",
      "Epoch 10/15\n",
      "1500/1500 [==============================] - 11s 8ms/step - loss: 0.4987 - accuracy: 0.8175 - val_loss: 0.4006 - val_accuracy: 0.8522\n",
      "Epoch 11/15\n",
      "1500/1500 [==============================] - 11s 8ms/step - loss: 0.4948 - accuracy: 0.8196 - val_loss: 0.4185 - val_accuracy: 0.8432\n",
      "Epoch 12/15\n",
      "1500/1500 [==============================] - 11s 8ms/step - loss: 0.4877 - accuracy: 0.8225 - val_loss: 0.4034 - val_accuracy: 0.8538\n",
      "Epoch 13/15\n",
      "1500/1500 [==============================] - 11s 7ms/step - loss: 0.4779 - accuracy: 0.8238 - val_loss: 0.3778 - val_accuracy: 0.8604\n",
      "Epoch 14/15\n",
      "1500/1500 [==============================] - 11s 8ms/step - loss: 0.4720 - accuracy: 0.8271 - val_loss: 0.3746 - val_accuracy: 0.8642\n",
      "Epoch 15/15\n",
      "1500/1500 [==============================] - 11s 8ms/step - loss: 0.4708 - accuracy: 0.8292 - val_loss: 0.3845 - val_accuracy: 0.8551\n",
      "Accuracy:  0.853600025177002\n"
     ]
    }
   ],
   "source": [
    "from keras import Sequential\n",
    "from keras.layers import Flatten, Dropout, Dense, Conv2D, MaxPooling2D\n",
    "\n",
    "model_final = keras.Sequential()\n",
    "model_final.add(Conv2D(16, kernel_size=(3, 3), activation='relu', input_shape=(28, 28, 1)))\n",
    "model_final.add(MaxPooling2D((2, 2)))\n",
    "model_final.add(Dropout(0.2))\n",
    "\n",
    "model_final.add(Conv2D(16, (3, 3), activation='relu'))\n",
    "model_final.add(MaxPooling2D((2, 2)))\n",
    "model_final.add(Dropout(0.2))\n",
    "\n",
    "model_final.add(Conv2D(32, (3, 3), activation='relu'))\n",
    "model_final.add(MaxPooling2D((2, 2)))\n",
    "model_final.add(Dropout(0.2))\n",
    "\n",
    "model_final.add(Flatten())\n",
    "model_final.add(Dense(64, activation='relu'))\n",
    "model_final.add(Dropout(0.2))\n",
    "\n",
    "model_final.add(Dense(10, activation='softmax'))\n",
    "\n",
    "model_final.compile(loss='categorical_crossentropy', optimizer='adam', metrics=['accuracy'])\n",
    "\n",
    "history_final = model_final.fit(X_train, y_train, validation_split=0.2, epochs=15)\n",
    "\n",
    "scores = model_final.evaluate(X_test, y_test,  verbose=0)\n",
    "print(\"Accuracy: \", (scores[1]))"
   ]
  }
 ],
 "metadata": {
  "kernelspec": {
   "display_name": "Python 3 (ipykernel)",
   "language": "python",
   "name": "python3"
  },
  "language_info": {
   "codemirror_mode": {
    "name": "ipython",
    "version": 3
   },
   "file_extension": ".py",
   "mimetype": "text/x-python",
   "name": "python",
   "nbconvert_exporter": "python",
   "pygments_lexer": "ipython3",
   "version": "3.8.5"
  }
 },
 "nbformat": 4,
 "nbformat_minor": 5
}

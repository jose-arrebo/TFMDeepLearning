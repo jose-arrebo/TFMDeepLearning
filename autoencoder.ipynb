{
 "cells": [
  {
   "cell_type": "markdown",
   "id": "e56506e3-969c-4260-95ca-e43528f1f5db",
   "metadata": {},
   "source": [
    "# Autoencoders"
   ]
  },
  {
   "cell_type": "markdown",
   "id": "630b2a14-cc73-4092-b48e-650e8bd446a5",
   "metadata": {},
   "source": [
    "Comenzamos instalando la librería *tensorflow* con la herramienta *pip* en el entorno virtual en el que trabajaremos. Para ello, realizamos un simple *pip install tensorflow* y mostramos la versión instalada:"
   ]
  },
  {
   "cell_type": "code",
   "execution_count": 1,
   "id": "808c9db4-b9ab-4240-a41b-01e9a5f5ca78",
   "metadata": {
    "tags": []
   },
   "outputs": [
    {
     "data": {
      "text/plain": [
       "'2.12.0'"
      ]
     },
     "execution_count": 1,
     "metadata": {},
     "output_type": "execute_result"
    }
   ],
   "source": [
    "import tensorflow as tf\n",
    "\n",
    "tf.__version__"
   ]
  },
  {
   "cell_type": "markdown",
   "id": "5523c8fd-6d07-4b61-938c-da5a42881640",
   "metadata": {},
   "source": [
    "A continuación, cargamos el conjunto de datos *MNIST* que trae la propia biblioteca de Keras. Se trata de un conjunto de datos que contiene información de dígitos escritos a mano con su correspondiente etiqueta."
   ]
  },
  {
   "cell_type": "code",
   "execution_count": 2,
   "id": "1168faf1-2848-439e-b2a1-25d3a44e39f5",
   "metadata": {
    "tags": []
   },
   "outputs": [],
   "source": [
    "from keras.datasets import mnist\n",
    "\n",
    "(X_train, y_train), (X_test, y_test) = mnist.load_data()"
   ]
  },
  {
   "cell_type": "markdown",
   "id": "41b1b1f4-d7de-4d24-95c5-f60c990fed37",
   "metadata": {},
   "source": [
    "Nótese que, en este caso, al tratarse de un modelo de aprendizaje no supervisado, las etiquetas nos son indiferentes. Una vez hemos cargado los datos, veamos las dimensiones:"
   ]
  },
  {
   "cell_type": "code",
   "execution_count": 3,
   "id": "0b752561-bc70-471d-96b6-1e33ba2eb9a1",
   "metadata": {
    "tags": []
   },
   "outputs": [
    {
     "data": {
      "text/plain": [
       "(60000, 28, 28)"
      ]
     },
     "execution_count": 3,
     "metadata": {},
     "output_type": "execute_result"
    }
   ],
   "source": [
    "X_train.shape"
   ]
  },
  {
   "cell_type": "code",
   "execution_count": 4,
   "id": "9c5a1b95-b055-4544-8262-5eb287704dfb",
   "metadata": {
    "tags": []
   },
   "outputs": [
    {
     "data": {
      "text/plain": [
       "(10000, 28, 28)"
      ]
     },
     "execution_count": 4,
     "metadata": {},
     "output_type": "execute_result"
    }
   ],
   "source": [
    "X_test.shape"
   ]
  },
  {
   "cell_type": "markdown",
   "id": "1eac6eb9-3d9b-4f79-80b1-d301c3a4ac3b",
   "metadata": {},
   "source": [
    "Esto significa que en el conjunto de train tenemos $60000$ observaciones, en forma de matrices $28x28$. Mientras tanto, en el conjunto de test tenemos únicamente $10000$ de ellas."
   ]
  },
  {
   "cell_type": "markdown",
   "id": "083702a5-c15f-4008-9078-bcc5815cf431",
   "metadata": {},
   "source": [
    "Una vez que conocemos cómo está almacenada la información, procedemos a redimensionar los datos para convertir las matrices asociadas a cada instancia en *arrays* unidimensionales:"
   ]
  },
  {
   "cell_type": "code",
   "execution_count": 5,
   "id": "11c67c03-dc30-4e98-9e8d-7d733b1d8da3",
   "metadata": {
    "tags": []
   },
   "outputs": [],
   "source": [
    "X_train = X_train.reshape((X_train.shape[0], 28*28))\n",
    "X_test = X_test.reshape((X_test.shape[0], 28*28))"
   ]
  },
  {
   "cell_type": "markdown",
   "id": "2977c432-0d0d-4d29-8fd2-f84ee431481e",
   "metadata": {},
   "source": [
    "Antes de comenzar a entrenar el modelo, debemos llevar a cabo un reescalado de los datos para evitar problemas de inestabilidad numérica. Puesto que sabemos que los datos son provenientes de imágenes, sabemos que los valores de los arrays se mueven entre $0$ y $255$. Si dividimos los valores entre $255$, obtendremos valores que se mueven en el rango $[0,1]$:"
   ]
  },
  {
   "cell_type": "code",
   "execution_count": 7,
   "id": "5641d204-4062-4ef4-9a1c-d18e4ea91d1b",
   "metadata": {
    "tags": []
   },
   "outputs": [],
   "source": [
    "X_train = X_train.astype('float32') / 255.0\n",
    "X_test = X_test.astype('float32') / 255.0"
   ]
  },
  {
   "cell_type": "markdown",
   "id": "44f9cebf-efac-43d9-b9bf-91722d5cc0fa",
   "metadata": {},
   "source": [
    "Una vez tenemos los datos tratados, podemos comenzar a construir el Autoencoder:"
   ]
  },
  {
   "cell_type": "code",
   "execution_count": 32,
   "id": "a9c9dae9-1a3e-4526-96ae-9a1ffa9683c4",
   "metadata": {
    "tags": []
   },
   "outputs": [
    {
     "name": "stdout",
     "output_type": "stream",
     "text": [
      "Epoch 1/50\n",
      "1875/1875 [==============================] - 5s 3ms/step - loss: 0.1371\n",
      "Epoch 2/50\n",
      "1875/1875 [==============================] - 5s 3ms/step - loss: 0.0980\n",
      "Epoch 3/50\n",
      "1875/1875 [==============================] - 5s 3ms/step - loss: 0.0926\n",
      "Epoch 4/50\n",
      "1875/1875 [==============================] - 5s 3ms/step - loss: 0.0900\n",
      "Epoch 5/50\n",
      "1875/1875 [==============================] - 5s 3ms/step - loss: 0.0883\n",
      "Epoch 6/50\n",
      "1875/1875 [==============================] - 5s 3ms/step - loss: 0.0870\n",
      "Epoch 7/50\n",
      "1875/1875 [==============================] - 5s 3ms/step - loss: 0.0861\n",
      "Epoch 8/50\n",
      "1875/1875 [==============================] - 5s 3ms/step - loss: 0.0854\n",
      "Epoch 9/50\n",
      "1875/1875 [==============================] - 5s 3ms/step - loss: 0.0848\n",
      "Epoch 10/50\n",
      "1875/1875 [==============================] - 5s 3ms/step - loss: 0.0843\n",
      "Epoch 11/50\n",
      "1875/1875 [==============================] - 5s 3ms/step - loss: 0.0839\n",
      "Epoch 12/50\n",
      "1875/1875 [==============================] - 5s 3ms/step - loss: 0.0836\n",
      "Epoch 13/50\n",
      "1875/1875 [==============================] - 5s 3ms/step - loss: 0.0833\n",
      "Epoch 14/50\n",
      "1875/1875 [==============================] - 5s 3ms/step - loss: 0.0830\n",
      "Epoch 15/50\n",
      "1875/1875 [==============================] - 5s 3ms/step - loss: 0.0828\n",
      "Epoch 16/50\n",
      "1875/1875 [==============================] - 5s 3ms/step - loss: 0.0826\n",
      "Epoch 17/50\n",
      "1875/1875 [==============================] - 5s 3ms/step - loss: 0.0824\n",
      "Epoch 18/50\n",
      "1875/1875 [==============================] - 5s 3ms/step - loss: 0.0822\n",
      "Epoch 19/50\n",
      "1875/1875 [==============================] - 5s 3ms/step - loss: 0.0820\n",
      "Epoch 20/50\n",
      "1875/1875 [==============================] - 5s 3ms/step - loss: 0.0819\n",
      "Epoch 21/50\n",
      "1875/1875 [==============================] - 5s 3ms/step - loss: 0.0818\n",
      "Epoch 22/50\n",
      "1875/1875 [==============================] - 5s 3ms/step - loss: 0.0816\n",
      "Epoch 23/50\n",
      "1875/1875 [==============================] - 5s 3ms/step - loss: 0.0815\n",
      "Epoch 24/50\n",
      "1875/1875 [==============================] - 5s 3ms/step - loss: 0.0814\n",
      "Epoch 25/50\n",
      "1875/1875 [==============================] - 5s 3ms/step - loss: 0.0813\n",
      "Epoch 26/50\n",
      "1875/1875 [==============================] - 5s 3ms/step - loss: 0.0812\n",
      "Epoch 27/50\n",
      "1875/1875 [==============================] - 5s 3ms/step - loss: 0.0811\n",
      "Epoch 28/50\n",
      "1875/1875 [==============================] - 5s 3ms/step - loss: 0.0810\n",
      "Epoch 29/50\n",
      "1875/1875 [==============================] - 5s 3ms/step - loss: 0.0809\n",
      "Epoch 30/50\n",
      "1875/1875 [==============================] - 5s 3ms/step - loss: 0.0808\n",
      "Epoch 31/50\n",
      "1875/1875 [==============================] - 5s 3ms/step - loss: 0.0807\n",
      "Epoch 32/50\n",
      "1875/1875 [==============================] - 5s 3ms/step - loss: 0.0806\n",
      "Epoch 33/50\n",
      "1875/1875 [==============================] - 5s 3ms/step - loss: 0.0805\n",
      "Epoch 34/50\n",
      "1875/1875 [==============================] - 5s 3ms/step - loss: 0.0805\n",
      "Epoch 35/50\n",
      "1875/1875 [==============================] - 5s 3ms/step - loss: 0.0804\n",
      "Epoch 36/50\n",
      "1875/1875 [==============================] - 5s 3ms/step - loss: 0.0804\n",
      "Epoch 37/50\n",
      "1875/1875 [==============================] - 5s 3ms/step - loss: 0.0803\n",
      "Epoch 38/50\n",
      "1875/1875 [==============================] - 5s 3ms/step - loss: 0.0802\n",
      "Epoch 39/50\n",
      "1875/1875 [==============================] - 5s 3ms/step - loss: 0.0801\n",
      "Epoch 40/50\n",
      "1875/1875 [==============================] - 5s 3ms/step - loss: 0.0801\n",
      "Epoch 41/50\n",
      "1875/1875 [==============================] - 5s 3ms/step - loss: 0.0800\n",
      "Epoch 42/50\n",
      "1875/1875 [==============================] - 5s 3ms/step - loss: 0.0800\n",
      "Epoch 43/50\n",
      "1875/1875 [==============================] - 5s 3ms/step - loss: 0.0799\n",
      "Epoch 44/50\n",
      "1875/1875 [==============================] - 5s 3ms/step - loss: 0.0799\n",
      "Epoch 45/50\n",
      "1875/1875 [==============================] - 5s 3ms/step - loss: 0.0798\n",
      "Epoch 46/50\n",
      "1875/1875 [==============================] - 5s 3ms/step - loss: 0.0798\n",
      "Epoch 47/50\n",
      "1875/1875 [==============================] - 5s 3ms/step - loss: 0.0798\n",
      "Epoch 48/50\n",
      "1875/1875 [==============================] - 5s 3ms/step - loss: 0.0797\n",
      "Epoch 49/50\n",
      "1875/1875 [==============================] - 5s 3ms/step - loss: 0.0797\n",
      "Epoch 50/50\n",
      "1875/1875 [==============================] - 5s 3ms/step - loss: 0.0796\n"
     ]
    }
   ],
   "source": [
    "import keras\n",
    "from keras import layers\n",
    "\n",
    "code_size = 32\n",
    "\n",
    "input_image = keras.Input(shape=(784,))\n",
    "hiddenlayer_1 = layers.Dense(128, activation='relu')(input_image)\n",
    "\n",
    "code_layer = layers.Dense(code_size, activation='relu')(hiddenlayer_1)\n",
    "\n",
    "hiddenlayer_2 = layers.Dense(128, activation='relu')(code_layer)\n",
    "output_image = layers.Dense(784, activation='sigmoid')(hiddenlayer_2)\n",
    "\n",
    "autoencoder_model = keras.Model(input_image, output_image)\n",
    "autoencoder_model.compile(optimizer='adam', loss='binary_crossentropy')\n",
    "history = autoencoder_model.fit(X_train, X_train, epochs=50)"
   ]
  },
  {
   "cell_type": "markdown",
   "id": "a4f6e793-8b86-47a1-83ba-4d313a7ca7bb",
   "metadata": {},
   "source": [
    "Veamos cómo ha sido el proceso de aprendizaje de los parámetros del modelo y cómo ha sido su efecto en las diferentes pérdidas:"
   ]
  },
  {
   "cell_type": "code",
   "execution_count": 33,
   "id": "e151397a-1fcb-43ed-865c-1b0709fc60db",
   "metadata": {
    "tags": []
   },
   "outputs": [],
   "source": [
    "import pandas as pd\n",
    "\n",
    "model_history = pd.DataFrame(history.history)\n",
    "model_history['epoch'] = history.epoch"
   ]
  },
  {
   "cell_type": "code",
   "execution_count": 34,
   "id": "3a07dc12-f28a-4253-a587-16f54e968267",
   "metadata": {
    "tags": []
   },
   "outputs": [
    {
     "data": {
      "text/html": [
       "<div>\n",
       "<style scoped>\n",
       "    .dataframe tbody tr th:only-of-type {\n",
       "        vertical-align: middle;\n",
       "    }\n",
       "\n",
       "    .dataframe tbody tr th {\n",
       "        vertical-align: top;\n",
       "    }\n",
       "\n",
       "    .dataframe thead th {\n",
       "        text-align: right;\n",
       "    }\n",
       "</style>\n",
       "<table border=\"1\" class=\"dataframe\">\n",
       "  <thead>\n",
       "    <tr style=\"text-align: right;\">\n",
       "      <th></th>\n",
       "      <th>loss</th>\n",
       "      <th>epoch</th>\n",
       "    </tr>\n",
       "  </thead>\n",
       "  <tbody>\n",
       "    <tr>\n",
       "      <th>0</th>\n",
       "      <td>0.137106</td>\n",
       "      <td>0</td>\n",
       "    </tr>\n",
       "    <tr>\n",
       "      <th>1</th>\n",
       "      <td>0.098027</td>\n",
       "      <td>1</td>\n",
       "    </tr>\n",
       "    <tr>\n",
       "      <th>2</th>\n",
       "      <td>0.092624</td>\n",
       "      <td>2</td>\n",
       "    </tr>\n",
       "    <tr>\n",
       "      <th>3</th>\n",
       "      <td>0.089962</td>\n",
       "      <td>3</td>\n",
       "    </tr>\n",
       "    <tr>\n",
       "      <th>4</th>\n",
       "      <td>0.088260</td>\n",
       "      <td>4</td>\n",
       "    </tr>\n",
       "  </tbody>\n",
       "</table>\n",
       "</div>"
      ],
      "text/plain": [
       "       loss  epoch\n",
       "0  0.137106      0\n",
       "1  0.098027      1\n",
       "2  0.092624      2\n",
       "3  0.089962      3\n",
       "4  0.088260      4"
      ]
     },
     "execution_count": 34,
     "metadata": {},
     "output_type": "execute_result"
    }
   ],
   "source": [
    "model_history.head()"
   ]
  },
  {
   "cell_type": "code",
   "execution_count": 36,
   "id": "01ff0ac9-bb40-4a02-8a44-3f80b685d466",
   "metadata": {
    "tags": []
   },
   "outputs": [
    {
     "data": {
      "image/png": "[encoded data removed]",
      "text/plain": [
       "<Figure size 640x480 with 1 Axes>"
      ]
     },
     "metadata": {},
     "output_type": "display_data"
    }
   ],
   "source": [
    "import matplotlib.pyplot as plt\n",
    "\n",
    "plt.figure()\n",
    "plt.plot(model_history['epoch'], model_history['loss'], label='Pérdida de entrenamiento')\n",
    "plt.title('Curva de Pérdida')\n",
    "plt.legend()\n",
    "plt.show()"
   ]
  },
  {
   "cell_type": "markdown",
   "id": "a3ab0980-deeb-4d16-9cb5-4925a4c672b8",
   "metadata": {},
   "source": [
    "Veamos la acción del modelo sobre las $10$ primeras imágenes del conjunto de imágenes de test:"
   ]
  },
  {
   "cell_type": "code",
   "execution_count": 38,
   "id": "6e9d5606-6661-43cb-9912-0534a03c7752",
   "metadata": {
    "tags": []
   },
   "outputs": [
    {
     "name": "stdout",
     "output_type": "stream",
     "text": [
      "313/313 [==============================] - 0s 1ms/step\n"
     ]
    }
   ],
   "source": [
    "decoded_testimages = autoencoder.predict(X_test)"
   ]
  },
  {
   "cell_type": "code",
   "execution_count": 39,
   "id": "5a471cc2-ed3c-4e9c-8f72-42f387e54081",
   "metadata": {
    "tags": []
   },
   "outputs": [
    {
     "data": {
      "image/png": "[encoded data removed]",
      "text/plain": [
       "<Figure size 2000x400 with 20 Axes>"
      ]
     },
     "metadata": {},
     "output_type": "display_data"
    }
   ],
   "source": [
    "import matplotlib.pyplot as plt\n",
    "\n",
    "plt.figure(figsize=(20, 4))\n",
    "\n",
    "for i in range(10):\n",
    "\n",
    "    ax = plt.subplot(2, 10, i + 1)\n",
    "    plt.imshow(X_test[i].reshape(28, 28))\n",
    "    plt.gray()\n",
    "    ax.get_xaxis().set_visible(False)\n",
    "    ax.get_yaxis().set_visible(False)\n",
    "\n",
    "    ax = plt.subplot(2, 10, i + 1 + 10)\n",
    "    plt.imshow(decoded_testimages[i].reshape(28, 28))\n",
    "    plt.gray()\n",
    "    ax.get_xaxis().set_visible(False)\n",
    "    ax.get_yaxis().set_visible(False)\n",
    "\n",
    "plt.show()"
   ]
  }
 ],
 "metadata": {
  "kernelspec": {
   "display_name": "Python 3 (ipykernel)",
   "language": "python",
   "name": "python3"
  },
  "language_info": {
   "codemirror_mode": {
    "name": "ipython",
    "version": 3
   },
   "file_extension": ".py",
   "mimetype": "text/x-python",
   "name": "python",
   "nbconvert_exporter": "python",
   "pygments_lexer": "ipython3",
   "version": "3.8.5"
  }
 },
 "nbformat": 4,
 "nbformat_minor": 5
}
